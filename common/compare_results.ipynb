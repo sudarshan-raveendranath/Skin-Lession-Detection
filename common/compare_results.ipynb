{
 "cells": [
  {
   "cell_type": "code",
   "execution_count": 5,
   "id": "6bdca2ea",
   "metadata": {},
   "outputs": [],
   "source": [
    "import torch\n",
    "import torch.nn as nn\n",
    "from torchvision import models\n",
    "from sklearn.metrics import accuracy_score, f1_score, classification_report, confusion_matrix\n",
    "import matplotlib.pyplot as plt\n",
    "import seaborn as sns\n",
    "import numpy as np\n",
    "import os\n",
    "import os\n",
    "from pathlib import Path\n",
    "from torchvision import transforms, datasets, models\n",
    "from torch.utils.data import DataLoader"
   ]
  },
  {
   "cell_type": "code",
   "execution_count": 6,
   "id": "52ad4a73",
   "metadata": {},
   "outputs": [
    {
     "name": "stdout",
     "output_type": "stream",
     "text": [
      "Using device: cuda\n"
     ]
    }
   ],
   "source": [
    "device = torch.device(\"cuda\" if torch.cuda.is_available() else \"cpu\")\n",
    "print(\"Using device:\", device)"
   ]
  },
  {
   "cell_type": "code",
   "execution_count": 8,
   "id": "3fe5a1b3",
   "metadata": {},
   "outputs": [],
   "source": [
    "base_dir = r\"C:\\Users\\user\\Desktop\\DL\"\n",
    "test_dir  = os.path.join(base_dir, \"test\")\n",
    "\n",
    "# Validation and Test transforms for no randomness, cvonsistent evaluation\n",
    "val_test_transforms = transforms.Compose([\n",
    "    transforms.Resize(256),\n",
    "    transforms.CenterCrop(224),\n",
    "    transforms.ToTensor(),\n",
    "    transforms.Normalize([0.485, 0.456, 0.406],\n",
    "                         [0.229, 0.224, 0.225])\n",
    "])\n",
    "\n",
    "test_dataset  = datasets.ImageFolder(test_dir, transform=val_test_transforms)\n",
    "class_names = test_dataset.classes\n",
    "num_classes = len(class_names)  # your class_names list\n",
    "\n",
    "batch_size = 32 # num_workers=2 for parallel data loading\n",
    "loader  = DataLoader(test_dataset, batch_size=batch_size, shuffle=False, num_workers=2, pin_memory=True)"
   ]
  },
  {
   "cell_type": "code",
   "execution_count": 9,
   "id": "428dcf52",
   "metadata": {},
   "outputs": [],
   "source": [
    "def load_model(model_name, num_classes, checkpoint_path):\n",
    "    if model_name == \"resnet50\":\n",
    "        model = models.resnet50(weights=None)\n",
    "        num_ftrs = model.fc.in_features\n",
    "        model.fc = nn.Linear(num_ftrs, num_classes)\n",
    "    elif model_name == \"efficientnet_b0\":\n",
    "        model = models.efficientnet_b0(weights=None)\n",
    "        num_ftrs = model.classifier[1].in_features\n",
    "        model.classifier[1] = nn.Linear(num_ftrs, num_classes)\n",
    "    elif model_name == \"densenet121\":\n",
    "        model = models.densenet121(weights=None)\n",
    "        num_ftrs = model.classifier.in_features\n",
    "        model.classifier = nn.Linear(num_ftrs, num_classes)\n",
    "    elif model_name == \"mobilenet_v2\":\n",
    "        model = models.mobilenet_v2(weights=None)\n",
    "        num_ftrs = model.classifier[1].in_features\n",
    "        model.classifier[1] = nn.Linear(num_ftrs, num_classes)\n",
    "    else:\n",
    "        raise ValueError(f\"Model '{model_name}' not supported\")\n",
    "\n",
    "    model.load_state_dict(torch.load(checkpoint_path, map_location=device))\n",
    "    model.to(device)\n",
    "    model.eval()\n",
    "    return model"
   ]
  },
  {
   "cell_type": "code",
   "execution_count": 10,
   "id": "39cd54e9",
   "metadata": {},
   "outputs": [],
   "source": [
    "def evaluate_model(model, loader, class_names):\n",
    "    y_true, y_pred = [], []\n",
    "    with torch.no_grad():\n",
    "        for inputs, labels in loader:\n",
    "            inputs, labels = inputs.to(device), labels.to(device)\n",
    "            outputs = model(inputs)\n",
    "            _, preds = torch.max(outputs, 1)\n",
    "            y_true.extend(labels.cpu().numpy())\n",
    "            y_pred.extend(preds.cpu().numpy())\n",
    "\n",
    "    acc = accuracy_score(y_true, y_pred)\n",
    "    f1 = f1_score(y_true, y_pred, average=\"macro\")\n",
    "    print(\"\\nClassification Report:\\n\")\n",
    "    print(classification_report(y_true, y_pred, target_names=class_names))\n",
    "\n",
    "    cm = confusion_matrix(y_true, y_pred)\n",
    "    plt.figure(figsize=(10,8))\n",
    "    sns.heatmap(cm, annot=True, fmt='d', cmap='Blues', xticklabels=class_names, yticklabels=class_names)\n",
    "    plt.title(f\"Confusion Matrix - {model.__class__.__name__}\")\n",
    "    plt.xlabel(\"Predicted Label\")\n",
    "    plt.ylabel(\"True Label\")\n",
    "    plt.tight_layout()\n",
    "    plt.show()\n",
    "    \n",
    "    return acc, f1"
   ]
  },
  {
   "cell_type": "code",
   "execution_count": null,
   "id": "68845241",
   "metadata": {},
   "outputs": [],
   "source": [
    "models_checkpoints = {\n",
    "    \"resnet50\": \"ResNet50_Finetuned_best.pth\",\n",
    "    \"efficientnet_b0\": \"EfficientNetB0_best.pth\",\n",
    "    \"densenet121\": \"DenseNet121_best.pth\",\n",
    "    \"mobilenet_v2\": \"MobileNetV2_best.pth\"\n",
    "}"
   ]
  },
  {
   "cell_type": "code",
   "execution_count": null,
   "id": "8e94780e",
   "metadata": {},
   "outputs": [],
   "source": [
    "results = {}\n",
    "\n",
    "for model_name, ckpt in models_checkpoints.items():\n",
    "    print(f\"\\nEvaluating {model_name}...\")\n",
    "    model = load_model(model_name, num_classes, ckpt)\n",
    "    acc, f1 = evaluate_model(model, loader, class_names)\n",
    "    results[model_name] = {\"accuracy\": acc, \"f1\": f1}\n",
    "\n",
    "names = list(results.keys())\n",
    "accs = [results[m][\"accuracy\"] for m in names]\n",
    "f1s  = [results[m][\"f1\"] for m in names]\n",
    "\n",
    "x = np.arange(len(names))\n",
    "width = 0.35\n",
    "\n",
    "plt.figure(figsize=(10,5))\n",
    "plt.bar(x - width/2, accs, width, label=\"Accuracy\", alpha=0.7)\n",
    "plt.bar(x + width/2, f1s, width, label=\"F1 Score\", alpha=0.7)\n",
    "plt.xticks(x, names)\n",
    "plt.ylabel(\"Score\")\n",
    "plt.title(\"Model Comparison\")\n",
    "plt.ylim(0,1)\n",
    "plt.legend()\n",
    "plt.tight_layout()\n",
    "plt.show()"
   ]
  },
  {
   "cell_type": "code",
   "execution_count": null,
   "id": "9f78f38c",
   "metadata": {},
   "outputs": [],
   "source": [
    "print(\"\\nFinal Results Comparison:\")\n",
    "for model_name in results:\n",
    "    print(f\"{model_name}: Accuracy={results[model_name]['accuracy']:.4f}, F1={results[model_name]['f1']:.4f}\")"
   ]
  }
 ],
 "metadata": {
  "kernelspec": {
   "display_name": ".venv",
   "language": "python",
   "name": "python3"
  },
  "language_info": {
   "codemirror_mode": {
    "name": "ipython",
    "version": 3
   },
   "file_extension": ".py",
   "mimetype": "text/x-python",
   "name": "python",
   "nbconvert_exporter": "python",
   "pygments_lexer": "ipython3",
   "version": "3.11.0"
  }
 },
 "nbformat": 4,
 "nbformat_minor": 5
}
