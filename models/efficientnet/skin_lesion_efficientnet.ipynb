{
 "cells": [
  {
   "cell_type": "markdown",
   "id": "1bef0490",
   "metadata": {},
   "source": [
    "# Skin Lesion Classification — Transfer Learning\n",
    "**Dataset:** merged HAM10000 + MSLDv2.0 (14 classes).\n",
    "\n",
    "This notebook trains a single transfer-learning model on the dataset using PyTorch. \n",
    "**Assumptions:** dataset arranged like:\n",
    "```\n",
    "data/\n",
    "  train/\n",
    "    class_1/\n",
    "      img1.jpg\n",
    "      img2.jpg\n",
    "    class_2/\n",
    "  val/\n",
    "    class_1/\n",
    "    ...\n",
    "```\n",
    "\n",
    "**Model:** EfficientNet-B0"
   ]
  },
  {
   "cell_type": "code",
   "execution_count": 21,
   "id": "5a6315b8",
   "metadata": {},
   "outputs": [
    {
     "name": "stdout",
     "output_type": "stream",
     "text": [
      "Requirement already satisfied: torch in c:\\users\\nethm\\miniconda3\\lib\\site-packages (2.8.0)\n",
      "Requirement already satisfied: torchvision in c:\\users\\nethm\\miniconda3\\lib\\site-packages (0.23.0)\n",
      "Requirement already satisfied: matplotlib in c:\\users\\nethm\\miniconda3\\lib\\site-packages (3.10.7)\n",
      "Requirement already satisfied: scikit-learn in c:\\users\\nethm\\miniconda3\\lib\\site-packages (1.7.2)\n",
      "Requirement already satisfied: tqdm in c:\\users\\nethm\\miniconda3\\lib\\site-packages (4.67.1)\n",
      "Requirement already satisfied: timm in c:\\users\\nethm\\miniconda3\\lib\\site-packages (1.0.20)\n",
      "Requirement already satisfied: filelock in c:\\users\\nethm\\miniconda3\\lib\\site-packages (from torch) (3.20.0)\n",
      "Requirement already satisfied: typing-extensions>=4.10.0 in c:\\users\\nethm\\miniconda3\\lib\\site-packages (from torch) (4.12.2)\n",
      "Requirement already satisfied: sympy>=1.13.3 in c:\\users\\nethm\\miniconda3\\lib\\site-packages (from torch) (1.14.0)\n",
      "Requirement already satisfied: networkx in c:\\users\\nethm\\miniconda3\\lib\\site-packages (from torch) (3.5)\n",
      "Requirement already satisfied: jinja2 in c:\\users\\nethm\\miniconda3\\lib\\site-packages (from torch) (3.1.6)\n",
      "Requirement already satisfied: fsspec in c:\\users\\nethm\\miniconda3\\lib\\site-packages (from torch) (2025.9.0)\n",
      "Requirement already satisfied: setuptools in c:\\users\\nethm\\miniconda3\\lib\\site-packages (from torch) (78.1.1)\n",
      "Requirement already satisfied: numpy in c:\\users\\nethm\\miniconda3\\lib\\site-packages (from torchvision) (2.3.3)\n",
      "Requirement already satisfied: pillow!=8.3.*,>=5.3.0 in c:\\users\\nethm\\miniconda3\\lib\\site-packages (from torchvision) (11.3.0)\n",
      "Requirement already satisfied: contourpy>=1.0.1 in c:\\users\\nethm\\miniconda3\\lib\\site-packages (from matplotlib) (1.3.3)\n",
      "Requirement already satisfied: cycler>=0.10 in c:\\users\\nethm\\miniconda3\\lib\\site-packages (from matplotlib) (0.12.1)\n",
      "Requirement already satisfied: fonttools>=4.22.0 in c:\\users\\nethm\\miniconda3\\lib\\site-packages (from matplotlib) (4.60.1)\n",
      "Requirement already satisfied: kiwisolver>=1.3.1 in c:\\users\\nethm\\miniconda3\\lib\\site-packages (from matplotlib) (1.4.9)\n",
      "Requirement already satisfied: packaging>=20.0 in c:\\users\\nethm\\miniconda3\\lib\\site-packages (from matplotlib) (24.2)\n",
      "Requirement already satisfied: pyparsing>=3 in c:\\users\\nethm\\miniconda3\\lib\\site-packages (from matplotlib) (3.2.5)\n",
      "Requirement already satisfied: python-dateutil>=2.7 in c:\\users\\nethm\\miniconda3\\lib\\site-packages (from matplotlib) (2.9.0.post0)\n",
      "Requirement already satisfied: scipy>=1.8.0 in c:\\users\\nethm\\miniconda3\\lib\\site-packages (from scikit-learn) (1.16.2)\n",
      "Requirement already satisfied: joblib>=1.2.0 in c:\\users\\nethm\\miniconda3\\lib\\site-packages (from scikit-learn) (1.5.2)\n",
      "Requirement already satisfied: threadpoolctl>=3.1.0 in c:\\users\\nethm\\miniconda3\\lib\\site-packages (from scikit-learn) (3.6.0)\n",
      "Requirement already satisfied: colorama in c:\\users\\nethm\\miniconda3\\lib\\site-packages (from tqdm) (0.4.6)\n",
      "Requirement already satisfied: pyyaml in c:\\users\\nethm\\miniconda3\\lib\\site-packages (from timm) (6.0.3)\n",
      "Requirement already satisfied: huggingface_hub in c:\\users\\nethm\\miniconda3\\lib\\site-packages (from timm) (0.35.3)\n",
      "Requirement already satisfied: safetensors in c:\\users\\nethm\\miniconda3\\lib\\site-packages (from timm) (0.6.2)\n",
      "Requirement already satisfied: six>=1.5 in c:\\users\\nethm\\miniconda3\\lib\\site-packages (from python-dateutil>=2.7->matplotlib) (1.17.0)\n",
      "Requirement already satisfied: mpmath<1.4,>=1.1.0 in c:\\users\\nethm\\miniconda3\\lib\\site-packages (from sympy>=1.13.3->torch) (1.3.0)\n",
      "Requirement already satisfied: requests in c:\\users\\nethm\\miniconda3\\lib\\site-packages (from huggingface_hub->timm) (2.32.4)\n",
      "Requirement already satisfied: MarkupSafe>=2.0 in c:\\users\\nethm\\miniconda3\\lib\\site-packages (from jinja2->torch) (3.0.3)\n",
      "Requirement already satisfied: charset_normalizer<4,>=2 in c:\\users\\nethm\\miniconda3\\lib\\site-packages (from requests->huggingface_hub->timm) (3.3.2)\n",
      "Requirement already satisfied: idna<4,>=2.5 in c:\\users\\nethm\\miniconda3\\lib\\site-packages (from requests->huggingface_hub->timm) (3.7)\n",
      "Requirement already satisfied: urllib3<3,>=1.21.1 in c:\\users\\nethm\\miniconda3\\lib\\site-packages (from requests->huggingface_hub->timm) (2.5.0)\n",
      "Requirement already satisfied: certifi>=2017.4.17 in c:\\users\\nethm\\miniconda3\\lib\\site-packages (from requests->huggingface_hub->timm) (2025.10.5)\n",
      "Note: you may need to restart the kernel to use updated packages.\n",
      "Device: cpu\n"
     ]
    }
   ],
   "source": [
    "# Environment & imports\n",
    "# If running in a fresh environment, you may need to install packages:\n",
    "# !pip install torch torchvision matplotlib scikit-learn tqdm timm -q\n",
    "%pip install torch torchvision matplotlib scikit-learn tqdm timm\n",
    "import os\n",
    "import time\n",
    "import copy\n",
    "from pathlib import Path\n",
    "import numpy as np\n",
    "import matplotlib.pyplot as plt\n",
    "from tqdm import tqdm\n",
    "\n",
    "import torch\n",
    "import torch.nn as nn\n",
    "import torch.optim as optim\n",
    "from torch.utils.data import DataLoader\n",
    "from torchvision import transforms, datasets, models\n",
    "\n",
    "from sklearn.metrics import classification_report, confusion_matrix, f1_score, accuracy_score\n",
    "device = torch.device(\"cuda\" if torch.cuda.is_available() else \"cpu\")\n",
    "print(\"Device:\", device)\n"
   ]
  },
  {
   "cell_type": "code",
   "execution_count": null,
   "id": "484b910d",
   "metadata": {},
   "outputs": [
    {
     "name": "stdout",
     "output_type": "stream",
     "text": [
      "Classes (10): ['Actinic keratoses', 'Chickenpox', 'Cowpox', 'Dermatofibroma', 'HFMD', 'Healthy', 'Measles', 'Monkeypox', 'Squamous cell carcinoma', 'Vascular lesions']\n",
      "Train size: 10648  Val size: 1327\n"
     ]
    }
   ],
   "source": [
    "# Paths (change these to your dataset locations)\n",
    "train_dir = r\"D:\\archive\\train\"\n",
    "val_dir   = r\"D:\\archive\\val\"\n",
    "\n",
    "# Data transforms and augmentation\n",
    "train_transforms = transforms.Compose([\n",
    "    transforms.RandomResizedCrop(224),\n",
    "    transforms.RandomHorizontalFlip(),\n",
    "    transforms.RandomRotation(20),\n",
    "    transforms.ColorJitter(brightness=0.1, contrast=0.1, saturation=0.1),\n",
    "    transforms.ToTensor(),\n",
    "    transforms.Normalize([0.485, 0.456, 0.406],\n",
    "                         [0.229, 0.224, 0.225])\n",
    "])\n",
    "\n",
    "val_transforms = transforms.Compose([\n",
    "    transforms.Resize(256),\n",
    "    transforms.CenterCrop(224),\n",
    "    transforms.ToTensor(),\n",
    "    transforms.Normalize([0.485, 0.456, 0.406],\n",
    "                         [0.229, 0.224, 0.225])\n",
    "])\n",
    "\n",
    "train_dataset = datasets.ImageFolder(train_dir, transform=train_transforms)\n",
    "val_dataset   = datasets.ImageFolder(val_dir, transform=val_transforms)\n",
    "\n",
    "batch_size = 32\n",
    "num_workers = 4\n",
    "train_loader = DataLoader(train_dataset, batch_size=batch_size, shuffle=True, num_workers=num_workers)\n",
    "val_loader   = DataLoader(val_dataset, batch_size=batch_size, shuffle=False, num_workers=num_workers)\n",
    "\n",
    "class_names = train_dataset.classes\n",
    "num_classes = len(class_names)\n",
    "print(\"Classes ({}):\".format(num_classes), class_names)\n",
    "print(\"Train size:\", len(train_dataset), \" Val size:\", len(val_dataset))\n"
   ]
  },
  {
   "cell_type": "code",
   "execution_count": 23,
   "id": "61712fbe",
   "metadata": {},
   "outputs": [
    {
     "name": "stdout",
     "output_type": "stream",
     "text": [
      "Class counts: [693, 900, 792, 191, 1932, 1368, 660, 3408, 502, 202]\n",
      "Class weights: tensor([15.3651, 11.8311, 13.4444, 55.7487,  5.5114,  7.7836, 16.1333,  3.1244,\n",
      "        21.2112, 52.7129])\n"
     ]
    }
   ],
   "source": [
    "# Compute class weights to address imbalance\n",
    "from collections import Counter\n",
    "counts = Counter([y for _, y in train_dataset.samples])\n",
    "counts = [counts[i] for i in range(len(class_names))]\n",
    "print(\"Class counts:\", counts)\n",
    "class_weights = torch.tensor([sum(counts)/c for c in counts], dtype=torch.float).to(device)\n",
    "print(\"Class weights:\", class_weights)\n",
    "\n",
    "criterion = nn.CrossEntropyLoss(weight=class_weights)\n"
   ]
  },
  {
   "cell_type": "code",
   "execution_count": null,
   "id": "07339a8a",
   "metadata": {},
   "outputs": [],
   "source": [
    "# EfficientNet-B0 (torchvision if available)\n",
    "try:\n",
    "    model = models.efficientnet_b0(pretrained=True)\n",
    "    num_ftrs = model.classifier[1].in_features\n",
    "    model.classifier[1] = nn.Linear(num_ftrs, num_classes)\n",
    "except Exception as e:\n",
    "    # If torchvision doesn't have efficientnet in your environment, use timm (uncomment install if needed)\n",
    "    # !pip install timm -q\n",
    "    import timm\n",
    "    model = timm.create_model('efficientnet_b0', pretrained=True, num_classes=num_classes)\n",
    "model = model.to(device)\n"
   ]
  },
  {
   "cell_type": "code",
   "execution_count": 25,
   "id": "54a2005c",
   "metadata": {},
   "outputs": [],
   "source": [
    "# Optimizer, scheduler\n",
    "optimizer = optim.Adam(model.parameters(), lr=1e-4, weight_decay=1e-5)\n",
    "# Optional scheduler\n",
    "# scheduler = optim.lr_scheduler.StepLR(optimizer, step_size=7, gamma=0.1)\n",
    "scheduler = None\n",
    "num_epochs = 10  # change as needed\n"
   ]
  },
  {
   "cell_type": "code",
   "execution_count": 26,
   "id": "a7ddaa07",
   "metadata": {},
   "outputs": [],
   "source": [
    "def train_model(model, criterion, optimizer, scheduler=None, num_epochs=10, model_name=\"model\"):\n",
    "    since = time.time()\n",
    "    best_model_wts = copy.deepcopy(model.state_dict())\n",
    "    best_f1 = 0.0\n",
    "\n",
    "    history = {\"train_loss\":[],\"val_loss\":[],\"train_acc\":[],\"val_acc\":[], \"val_f1\":[]}\n",
    "\n",
    "    for epoch in range(num_epochs):\n",
    "        print(\"Epoch {}/{}\".format(epoch+1, num_epochs))\n",
    "        # Each epoch has a training and validation phase\n",
    "        for phase in [\"train\",\"val\"]:\n",
    "            if phase == \"train\":\n",
    "                model.train()\n",
    "                loader = train_loader\n",
    "            else:\n",
    "                model.eval()\n",
    "                loader = val_loader\n",
    "\n",
    "            running_loss = 0.0\n",
    "            running_corrects = 0\n",
    "            y_true = []\n",
    "            y_pred = []\n",
    "\n",
    "            for inputs, labels in tqdm(loader):\n",
    "                inputs = inputs.to(device)\n",
    "                labels = labels.to(device)\n",
    "\n",
    "                optimizer.zero_grad()\n",
    "                with torch.set_grad_enabled(phase == \"train\"):\n",
    "                    outputs = model(inputs)\n",
    "                    _, preds = torch.max(outputs, 1)\n",
    "                    loss = criterion(outputs, labels)\n",
    "\n",
    "                    if phase == \"train\":\n",
    "                        loss.backward()\n",
    "                        optimizer.step()\n",
    "\n",
    "                running_loss += loss.item() * inputs.size(0)\n",
    "                running_corrects += torch.sum(preds == labels.data).item()\n",
    "                y_true.extend(labels.cpu().numpy().tolist())\n",
    "                y_pred.extend(preds.cpu().numpy().tolist())\n",
    "\n",
    "            epoch_loss = running_loss / (len(loader.dataset))\n",
    "            epoch_acc = running_corrects / (len(loader.dataset))\n",
    "            epoch_f1 = f1_score(y_true, y_pred, average='macro')\n",
    "            print(\"{} Loss: {:.4f} Acc: {:.4f} F1: {:.4f}\".format(phase, epoch_loss, epoch_acc, epoch_f1))\n",
    "\n",
    "            if phase == \"train\":\n",
    "                history[\"train_loss\"].append(epoch_loss)\n",
    "                history[\"train_acc\"].append(epoch_acc)\n",
    "            else:\n",
    "                history[\"val_loss\"].append(epoch_loss)\n",
    "                history[\"val_acc\"].append(epoch_acc)\n",
    "                history[\"val_f1\"].append(epoch_f1)\n",
    "                # deep copy the model\n",
    "                if epoch_f1 > best_f1:\n",
    "                    best_f1 = epoch_f1\n",
    "                    best_model_wts = copy.deepcopy(model.state_dict())\n",
    "                    torch.save(model.state_dict(), f\"{model_name}_best.pth\")\n",
    "        if scheduler is not None:\n",
    "            scheduler.step()\n",
    "        print(\"-\"*30)\n",
    "\n",
    "    time_elapsed = time.time() - since\n",
    "    print(\"Training complete in {:.0f}m {:.0f}s\".format(time_elapsed // 60, time_elapsed % 60))\n",
    "    print(\"Best val F1: {:.4f}\".format(best_f1))\n",
    "\n",
    "    # load best model weights\n",
    "    model.load_state_dict(best_model_wts)\n",
    "    return model, history\n"
   ]
  },
  {
   "cell_type": "code",
   "execution_count": 27,
   "id": "402a6221",
   "metadata": {},
   "outputs": [
    {
     "name": "stdout",
     "output_type": "stream",
     "text": [
      "Epoch 1/10\n"
     ]
    },
    {
     "name": "stderr",
     "output_type": "stream",
     "text": [
      "100%|██████████| 333/333 [09:51<00:00,  1.78s/it]\n"
     ]
    },
    {
     "name": "stdout",
     "output_type": "stream",
     "text": [
      "train Loss: 1.3077 Acc: 0.5137 F1: 0.4927\n"
     ]
    },
    {
     "name": "stderr",
     "output_type": "stream",
     "text": [
      "100%|██████████| 42/42 [00:24<00:00,  1.74it/s]\n"
     ]
    },
    {
     "name": "stdout",
     "output_type": "stream",
     "text": [
      "val Loss: 0.7913 Acc: 0.7016 F1: 0.7120\n",
      "------------------------------\n",
      "Epoch 2/10\n"
     ]
    },
    {
     "name": "stderr",
     "output_type": "stream",
     "text": [
      "100%|██████████| 333/333 [09:36<00:00,  1.73s/it]\n"
     ]
    },
    {
     "name": "stdout",
     "output_type": "stream",
     "text": [
      "train Loss: 0.7266 Acc: 0.6874 F1: 0.6809\n"
     ]
    },
    {
     "name": "stderr",
     "output_type": "stream",
     "text": [
      "100%|██████████| 42/42 [00:22<00:00,  1.89it/s]\n"
     ]
    },
    {
     "name": "stdout",
     "output_type": "stream",
     "text": [
      "val Loss: 0.5355 Acc: 0.7965 F1: 0.7911\n",
      "------------------------------\n",
      "Epoch 3/10\n"
     ]
    },
    {
     "name": "stderr",
     "output_type": "stream",
     "text": [
      "100%|██████████| 333/333 [09:42<00:00,  1.75s/it]\n"
     ]
    },
    {
     "name": "stdout",
     "output_type": "stream",
     "text": [
      "train Loss: 0.5960 Acc: 0.7493 F1: 0.7369\n"
     ]
    },
    {
     "name": "stderr",
     "output_type": "stream",
     "text": [
      "100%|██████████| 42/42 [00:21<00:00,  1.91it/s]\n"
     ]
    },
    {
     "name": "stdout",
     "output_type": "stream",
     "text": [
      "val Loss: 0.3919 Acc: 0.8598 F1: 0.8439\n",
      "------------------------------\n",
      "Epoch 4/10\n"
     ]
    },
    {
     "name": "stderr",
     "output_type": "stream",
     "text": [
      "100%|██████████| 333/333 [09:31<00:00,  1.71s/it]\n"
     ]
    },
    {
     "name": "stdout",
     "output_type": "stream",
     "text": [
      "train Loss: 0.4935 Acc: 0.7878 F1: 0.7752\n"
     ]
    },
    {
     "name": "stderr",
     "output_type": "stream",
     "text": [
      "100%|██████████| 42/42 [00:22<00:00,  1.90it/s]\n"
     ]
    },
    {
     "name": "stdout",
     "output_type": "stream",
     "text": [
      "val Loss: 0.3220 Acc: 0.8847 F1: 0.8586\n",
      "------------------------------\n",
      "Epoch 5/10\n"
     ]
    },
    {
     "name": "stderr",
     "output_type": "stream",
     "text": [
      "100%|██████████| 333/333 [09:41<00:00,  1.75s/it]\n"
     ]
    },
    {
     "name": "stdout",
     "output_type": "stream",
     "text": [
      "train Loss: 0.4305 Acc: 0.8213 F1: 0.8070\n"
     ]
    },
    {
     "name": "stderr",
     "output_type": "stream",
     "text": [
      "100%|██████████| 42/42 [00:22<00:00,  1.85it/s]\n"
     ]
    },
    {
     "name": "stdout",
     "output_type": "stream",
     "text": [
      "val Loss: 0.2576 Acc: 0.9050 F1: 0.8861\n",
      "------------------------------\n",
      "Epoch 6/10\n"
     ]
    },
    {
     "name": "stderr",
     "output_type": "stream",
     "text": [
      "100%|██████████| 333/333 [09:44<00:00,  1.76s/it]\n"
     ]
    },
    {
     "name": "stdout",
     "output_type": "stream",
     "text": [
      "train Loss: 0.3736 Acc: 0.8403 F1: 0.8328\n"
     ]
    },
    {
     "name": "stderr",
     "output_type": "stream",
     "text": [
      "100%|██████████| 42/42 [00:23<00:00,  1.81it/s]\n"
     ]
    },
    {
     "name": "stdout",
     "output_type": "stream",
     "text": [
      "val Loss: 0.2068 Acc: 0.9246 F1: 0.9119\n",
      "------------------------------\n",
      "Epoch 7/10\n"
     ]
    },
    {
     "name": "stderr",
     "output_type": "stream",
     "text": [
      "100%|██████████| 333/333 [09:38<00:00,  1.74s/it]\n"
     ]
    },
    {
     "name": "stdout",
     "output_type": "stream",
     "text": [
      "train Loss: 0.3640 Acc: 0.8522 F1: 0.8349\n"
     ]
    },
    {
     "name": "stderr",
     "output_type": "stream",
     "text": [
      "100%|██████████| 42/42 [00:23<00:00,  1.78it/s]\n"
     ]
    },
    {
     "name": "stdout",
     "output_type": "stream",
     "text": [
      "val Loss: 0.2099 Acc: 0.9209 F1: 0.8922\n",
      "------------------------------\n",
      "Epoch 8/10\n"
     ]
    },
    {
     "name": "stderr",
     "output_type": "stream",
     "text": [
      "100%|██████████| 333/333 [09:32<00:00,  1.72s/it]\n"
     ]
    },
    {
     "name": "stdout",
     "output_type": "stream",
     "text": [
      "train Loss: 0.3360 Acc: 0.8650 F1: 0.8551\n"
     ]
    },
    {
     "name": "stderr",
     "output_type": "stream",
     "text": [
      "100%|██████████| 42/42 [00:22<00:00,  1.83it/s]\n"
     ]
    },
    {
     "name": "stdout",
     "output_type": "stream",
     "text": [
      "val Loss: 0.1783 Acc: 0.9314 F1: 0.9097\n",
      "------------------------------\n",
      "Epoch 9/10\n"
     ]
    },
    {
     "name": "stderr",
     "output_type": "stream",
     "text": [
      "100%|██████████| 333/333 [09:20<00:00,  1.68s/it]\n"
     ]
    },
    {
     "name": "stdout",
     "output_type": "stream",
     "text": [
      "train Loss: 0.3113 Acc: 0.8733 F1: 0.8635\n"
     ]
    },
    {
     "name": "stderr",
     "output_type": "stream",
     "text": [
      "100%|██████████| 42/42 [00:21<00:00,  1.95it/s]\n"
     ]
    },
    {
     "name": "stdout",
     "output_type": "stream",
     "text": [
      "val Loss: 0.1529 Acc: 0.9465 F1: 0.9260\n",
      "------------------------------\n",
      "Epoch 10/10\n"
     ]
    },
    {
     "name": "stderr",
     "output_type": "stream",
     "text": [
      "100%|██████████| 333/333 [09:33<00:00,  1.72s/it]\n"
     ]
    },
    {
     "name": "stdout",
     "output_type": "stream",
     "text": [
      "train Loss: 0.2943 Acc: 0.8766 F1: 0.8657\n"
     ]
    },
    {
     "name": "stderr",
     "output_type": "stream",
     "text": [
      "100%|██████████| 42/42 [00:23<00:00,  1.80it/s]"
     ]
    },
    {
     "name": "stdout",
     "output_type": "stream",
     "text": [
      "val Loss: 0.1552 Acc: 0.9457 F1: 0.9244\n",
      "------------------------------\n",
      "Training complete in 100m 2s\n",
      "Best val F1: 0.9260\n"
     ]
    },
    {
     "name": "stderr",
     "output_type": "stream",
     "text": [
      "\n"
     ]
    }
   ],
   "source": [
    "# Train\n",
    "model, history = train_model(model, criterion, optimizer, scheduler, num_epochs=num_epochs, model_name=\"EfficientNet-B0\")\n"
   ]
  },
  {
   "cell_type": "code",
   "execution_count": 28,
   "id": "559814e5",
   "metadata": {},
   "outputs": [],
   "source": [
    "def plot_history(history, model_name=\"model\"):\n",
    "    epochs = range(1, len(history[\"train_loss\"]) + 1)\n",
    "    plt.figure(figsize=(12,4))\n",
    "    plt.subplot(1,2,1)\n",
    "    plt.plot(epochs, history[\"train_loss\"], label=\"train_loss\")\n",
    "    plt.plot(epochs, history[\"val_loss\"], label=\"val_loss\")\n",
    "    plt.xlabel(\"Epoch\"); plt.ylabel(\"Loss\"); plt.legend(); plt.title(f\"{model_name} Loss\")\n",
    "\n",
    "    plt.subplot(1,2,2)\n",
    "    plt.plot(epochs, history[\"train_acc\"], label=\"train_acc\")\n",
    "    plt.plot(epochs, history[\"val_acc\"], label=\"val_acc\")\n",
    "    plt.xlabel(\"Epoch\"); plt.ylabel(\"Accuracy\"); plt.legend(); plt.title(f\"{model_name} Accuracy\")\n",
    "    plt.show()\n"
   ]
  },
  {
   "cell_type": "code",
   "execution_count": 29,
   "id": "cf7b5ab9",
   "metadata": {},
   "outputs": [
    {
     "data": {
      "image/png": "[encoded data removed]",
      "text/plain": [
       "<Figure size 1200x400 with 2 Axes>"
      ]
     },
     "metadata": {},
     "output_type": "display_data"
    }
   ],
   "source": [
    "plot_history(history, model_name=\"EfficientNet-B0\")\n"
   ]
  },
  {
   "cell_type": "code",
   "execution_count": 32,
   "id": "58eae84f",
   "metadata": {},
   "outputs": [],
   "source": [
    "# Load best model checkpoint (if needed) and run final evaluation on validation set\n",
    "def evaluate_model(model):\n",
    "    model.eval()\n",
    "    y_true = []\n",
    "    y_pred = []\n",
    "    with torch.no_grad():\n",
    "        for inputs, labels in val_loader:\n",
    "            inputs = inputs.to(device)\n",
    "            labels = labels.to(device)\n",
    "            outputs = model(inputs)\n",
    "            _, preds = torch.max(outputs, 1)\n",
    "            y_true.extend(labels.cpu().numpy().tolist())\n",
    "            y_pred.extend(preds.cpu().numpy().tolist())\n",
    "    print(classification_report(y_true, y_pred, target_names=class_names))\n",
    "    cm = confusion_matrix(y_true, y_pred)\n",
    "    print(\"Confusion matrix:\\n\", cm)\n"
   ]
  },
  {
   "cell_type": "code",
   "execution_count": 33,
   "id": "0d104d1a",
   "metadata": {},
   "outputs": [
    {
     "name": "stdout",
     "output_type": "stream",
     "text": [
      "                         precision    recall  f1-score   support\n",
      "\n",
      "      Actinic keratoses       0.85      0.86      0.86        86\n",
      "             Chickenpox       0.91      0.96      0.93       112\n",
      "                 Cowpox       0.98      0.99      0.98        99\n",
      "         Dermatofibroma       0.79      0.96      0.86        23\n",
      "                   HFMD       0.95      0.99      0.97       241\n",
      "                Healthy       0.97      0.98      0.97       171\n",
      "                Measles       0.93      0.99      0.96        82\n",
      "              Monkeypox       0.99      0.93      0.96       426\n",
      "Squamous cell carcinoma       0.80      0.73      0.76        62\n",
      "       Vascular lesions       1.00      1.00      1.00        25\n",
      "\n",
      "               accuracy                           0.95      1327\n",
      "              macro avg       0.92      0.94      0.93      1327\n",
      "           weighted avg       0.95      0.95      0.95      1327\n",
      "\n",
      "Confusion matrix:\n",
      " [[ 74   0   0   1   0   0   0   0  11   0]\n",
      " [  0 107   0   0   1   0   0   4   0   0]\n",
      " [  0   0  98   0   1   0   0   0   0   0]\n",
      " [  1   0   0  22   0   0   0   0   0   0]\n",
      " [  0   0   0   0 239   0   2   0   0   0]\n",
      " [  0   1   0   0   1 167   2   0   0   0]\n",
      " [  0   0   0   0   0   1  81   0   0   0]\n",
      " [  0  10   2   0  10   4   2 398   0   0]\n",
      " [ 12   0   0   5   0   0   0   0  45   0]\n",
      " [  0   0   0   0   0   0   0   0   0  25]]\n"
     ]
    }
   ],
   "source": [
    "evaluate_model(model)"
   ]
  },
  {
   "cell_type": "code",
   "execution_count": null,
   "id": "a96c42e7",
   "metadata": {},
   "outputs": [
    {
     "name": "stdout",
     "output_type": "stream",
     "text": [
      "Requirement already satisfied: pandas in c:\\users\\nethm\\miniconda3\\lib\\site-packages (2.3.3)\n",
      "Requirement already satisfied: numpy>=1.26.0 in c:\\users\\nethm\\miniconda3\\lib\\site-packages (from pandas) (2.3.3)\n",
      "Requirement already satisfied: python-dateutil>=2.8.2 in c:\\users\\nethm\\miniconda3\\lib\\site-packages (from pandas) (2.9.0.post0)\n",
      "Requirement already satisfied: pytz>=2020.1 in c:\\users\\nethm\\miniconda3\\lib\\site-packages (from pandas) (2025.2)\n",
      "Requirement already satisfied: tzdata>=2022.7 in c:\\users\\nethm\\miniconda3\\lib\\site-packages (from pandas) (2025.2)\n",
      "Requirement already satisfied: six>=1.5 in c:\\users\\nethm\\miniconda3\\lib\\site-packages (from python-dateutil>=2.8.2->pandas) (1.17.0)\n",
      "Note: you may need to restart the kernel to use updated packages.\n",
      "Test classes order: ['Actinic keratoses', 'Chickenpox', 'Cowpox', 'Dermatofibroma', 'HFMD', 'Healthy', 'Measles', 'Monkeypox', 'Squamous cell carcinoma', 'Vascular lesions']\n",
      "Test size: 1337\n",
      "Loaded checkpoint: EfficientNet-B0_best.pth\n",
      "                         precision    recall  f1-score   support\n",
      "\n",
      "      Actinic keratoses       0.84      0.76      0.80        88\n",
      "             Chickenpox       0.93      0.94      0.93       113\n",
      "                 Cowpox       1.00      0.97      0.98        99\n",
      "         Dermatofibroma       0.70      0.84      0.76        25\n",
      "                   HFMD       0.96      0.98      0.97       242\n",
      "                Healthy       0.99      0.98      0.99       171\n",
      "                Measles       0.85      1.00      0.92        83\n",
      "              Monkeypox       0.98      0.93      0.95       426\n",
      "Squamous cell carcinoma       0.72      0.77      0.74        64\n",
      "       Vascular lesions       0.96      0.96      0.96        26\n",
      "\n",
      "               accuracy                           0.93      1337\n",
      "              macro avg       0.89      0.91      0.90      1337\n",
      "           weighted avg       0.94      0.93      0.94      1337\n",
      "\n",
      "Confusion matrix:\n",
      " [[ 67   0   0   4   0   0   0   0  17   0]\n",
      " [  0 106   0   0   0   0   2   5   0   0]\n",
      " [  0   0  96   0   0   0   1   2   0   0]\n",
      " [  3   0   0  21   0   0   0   0   1   0]\n",
      " [  0   0   0   0 238   0   2   1   0   1]\n",
      " [  0   0   0   0   1 168   1   1   0   0]\n",
      " [  0   0   0   0   0   0  83   0   0   0]\n",
      " [  0   8   0   0  10   2   9 397   0   0]\n",
      " [ 10   0   0   5   0   0   0   0  49   0]\n",
      " [  0   0   0   0   0   0   0   0   1  25]]\n"
     ]
    },
    {
     "data": {
      "image/png": "[encoded data removed]",
      "text/plain": [
       "<Figure size 1000x800 with 2 Axes>"
      ]
     },
     "metadata": {},
     "output_type": "display_data"
    },
    {
     "name": "stdout",
     "output_type": "stream",
     "text": [
      "Saved test_predictions.csv\n"
     ]
    }
   ],
   "source": [
    "\n",
    "%pip install pandas\n",
    "import torch\n",
    "from torchvision import datasets\n",
    "from torch.utils.data import DataLoader\n",
    "from sklearn.metrics import classification_report, confusion_matrix\n",
    "import numpy as np\n",
    "import matplotlib.pyplot as plt\n",
    "import pandas as pd\n",
    "\n",
    "# path to test data \n",
    "test_dir = r\"D:\\archive\\test\"   \n",
    "\n",
    "# use same transforms as val_transforms to keep inputs consistent\n",
    "test_dataset = datasets.ImageFolder(test_dir, transform=val_transforms)\n",
    "test_loader = DataLoader(test_dataset, batch_size=32, shuffle=False, num_workers=4)\n",
    "\n",
    "print(\"Test classes order:\", test_dataset.classes)\n",
    "print(\"Test size:\", len(test_dataset))\n",
    "\n",
    "# load best checkpoint (if you saved it during training)\n",
    "ckpt_path = \"EfficientNet-B0_best.pth\"   # adjust if different\n",
    "try:\n",
    "    state = torch.load(ckpt_path, map_location=device)\n",
    "    model.load_state_dict(state)\n",
    "    print(\"Loaded checkpoint:\", ckpt_path)\n",
    "except Exception as e:\n",
    "    print(\"Checkpoint load failed (using current model):\", e)\n",
    "\n",
    "model.to(device)\n",
    "model.eval()\n",
    "\n",
    "y_true = []\n",
    "y_pred = []\n",
    "probs = []   # optional: predicted probabilities\n",
    "\n",
    "with torch.no_grad():\n",
    "    for inputs, labels in test_loader:\n",
    "        inputs = inputs.to(device)\n",
    "        labels = labels.to(device)\n",
    "        outputs = model(inputs)\n",
    "        ps = torch.softmax(outputs, dim=1)\n",
    "        _, preds = torch.max(outputs, 1)\n",
    "\n",
    "        y_true.extend(labels.cpu().numpy().tolist())\n",
    "        y_pred.extend(preds.cpu().numpy().tolist())\n",
    "        probs.extend(ps.cpu().numpy().tolist())\n",
    "\n",
    "# metrics\n",
    "print(classification_report(y_true, y_pred, target_names=test_dataset.classes))\n",
    "cm = confusion_matrix(y_true, y_pred)\n",
    "print(\"Confusion matrix:\\n\", cm)\n",
    "\n",
    "# optional: plot confusion matrix\n",
    "plt.figure(figsize=(10,8))\n",
    "plt.imshow(cm, interpolation='nearest', cmap=plt.cm.Blues)\n",
    "plt.title(\"Confusion matrix\")\n",
    "plt.colorbar()\n",
    "tick_marks = np.arange(len(test_dataset.classes))\n",
    "plt.xticks(tick_marks, test_dataset.classes, rotation=90)\n",
    "plt.yticks(tick_marks, test_dataset.classes)\n",
    "plt.ylabel('True label')\n",
    "plt.xlabel('Predicted label')\n",
    "plt.tight_layout()\n",
    "plt.show()\n",
    "\n",
    "# optional: save per-image predictions (filenames, true, pred, prob)\n",
    "filenames = [p[0] for p in test_dataset.samples]  # full relative paths\n",
    "df = pd.DataFrame({\n",
    "    \"file\": filenames,\n",
    "    \"true\": [test_dataset.classes[i] for i in y_true],\n",
    "    \"pred\": [test_dataset.classes[i] for i in y_pred],\n",
    "    \"prob_top\": [round(float(np.max(p)),4) for p in probs]\n",
    "})\n",
    "df.to_csv(\"test_predictions.csv\", index=False)\n",
    "print(\"Saved test_predictions.csv\")"
   ]
  }
 ],
 "metadata": {
  "kernelspec": {
   "display_name": "base",
   "language": "python",
   "name": "python3"
  },
  "language_info": {
   "codemirror_mode": {
    "name": "ipython",
    "version": 3
   },
   "file_extension": ".py",
   "mimetype": "text/x-python",
   "name": "python",
   "nbconvert_exporter": "python",
   "pygments_lexer": "ipython3",
   "version": "3.13.5"
  }
 },
 "nbformat": 4,
 "nbformat_minor": 5
}
