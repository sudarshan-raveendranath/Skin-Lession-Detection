{
 "cells": [
  {
   "cell_type": "markdown",
   "id": "1bef0490",
   "metadata": {},
   "source": [
    "# Skin Lesion Classification — Transfer Learning\n",
    "**Dataset:** merged HAM10000 + MSLDv2.0 (14 classes).\n",
    "\n",
    "This notebook trains a single transfer-learning model on the dataset using PyTorch. \n",
    "**Assumptions:** dataset arranged like:\n",
    "```\n",
    "data/\n",
    "  train/\n",
    "    class_1/\n",
    "      img1.jpg\n",
    "      img2.jpg\n",
    "    class_2/\n",
    "  val/\n",
    "    class_1/\n",
    "    ...\n",
    "```\n",
    "\n",
    "**Model:** EfficientNet-B0"
   ]
  },
  {
   "cell_type": "code",
   "execution_count": 8,
   "id": "5a6315b8",
   "metadata": {},
   "outputs": [
    {
     "name": "stdout",
     "output_type": "stream",
     "text": [
      "Looking in indexes: https://download.pytorch.org/whl/cu124\n",
      "Requirement already satisfied: torch in c:\\users\\nethm\\miniconda3\\lib\\site-packages (2.6.0+cu124)\n",
      "Requirement already satisfied: torchvision in c:\\users\\nethm\\miniconda3\\lib\\site-packages (0.21.0+cu124)\n",
      "Requirement already satisfied: torchaudio in c:\\users\\nethm\\miniconda3\\lib\\site-packages (2.6.0+cu124)\n",
      "Requirement already satisfied: filelock in c:\\users\\nethm\\miniconda3\\lib\\site-packages (from torch) (3.20.0)\n",
      "Requirement already satisfied: typing-extensions>=4.10.0 in c:\\users\\nethm\\miniconda3\\lib\\site-packages (from torch) (4.12.2)\n",
      "Requirement already satisfied: networkx in c:\\users\\nethm\\miniconda3\\lib\\site-packages (from torch) (3.5)\n",
      "Requirement already satisfied: jinja2 in c:\\users\\nethm\\miniconda3\\lib\\site-packages (from torch) (3.1.6)\n",
      "Requirement already satisfied: fsspec in c:\\users\\nethm\\miniconda3\\lib\\site-packages (from torch) (2025.9.0)\n",
      "Requirement already satisfied: setuptools in c:\\users\\nethm\\miniconda3\\lib\\site-packages (from torch) (78.1.1)\n",
      "Requirement already satisfied: sympy==1.13.1 in c:\\users\\nethm\\miniconda3\\lib\\site-packages (from torch) (1.13.1)\n",
      "Requirement already satisfied: mpmath<1.4,>=1.1.0 in c:\\users\\nethm\\miniconda3\\lib\\site-packages (from sympy==1.13.1->torch) (1.3.0)\n",
      "Requirement already satisfied: numpy in c:\\users\\nethm\\miniconda3\\lib\\site-packages (from torchvision) (2.2.6)\n",
      "Requirement already satisfied: pillow!=8.3.*,>=5.3.0 in c:\\users\\nethm\\miniconda3\\lib\\site-packages (from torchvision) (11.3.0)\n",
      "Requirement already satisfied: MarkupSafe>=2.0 in c:\\users\\nethm\\miniconda3\\lib\\site-packages (from jinja2->torch) (3.0.3)\n",
      "Requirement already satisfied: torch in c:\\users\\nethm\\miniconda3\\lib\\site-packages (2.6.0+cu124)\n",
      "Requirement already satisfied: torchvision in c:\\users\\nethm\\miniconda3\\lib\\site-packages (0.21.0+cu124)\n",
      "Requirement already satisfied: matplotlib in c:\\users\\nethm\\miniconda3\\lib\\site-packages (3.10.7)\n",
      "Requirement already satisfied: scikit-learn in c:\\users\\nethm\\miniconda3\\lib\\site-packages (1.7.2)\n",
      "Requirement already satisfied: tqdm in c:\\users\\nethm\\miniconda3\\lib\\site-packages (4.67.1)\n",
      "Requirement already satisfied: timm in c:\\users\\nethm\\miniconda3\\lib\\site-packages (1.0.20)\n",
      "Requirement already satisfied: filelock in c:\\users\\nethm\\miniconda3\\lib\\site-packages (from torch) (3.20.0)\n",
      "Requirement already satisfied: typing-extensions>=4.10.0 in c:\\users\\nethm\\miniconda3\\lib\\site-packages (from torch) (4.12.2)\n",
      "Requirement already satisfied: networkx in c:\\users\\nethm\\miniconda3\\lib\\site-packages (from torch) (3.5)\n",
      "Requirement already satisfied: jinja2 in c:\\users\\nethm\\miniconda3\\lib\\site-packages (from torch) (3.1.6)\n",
      "Requirement already satisfied: fsspec in c:\\users\\nethm\\miniconda3\\lib\\site-packages (from torch) (2025.9.0)\n",
      "Requirement already satisfied: setuptools in c:\\users\\nethm\\miniconda3\\lib\\site-packages (from torch) (78.1.1)\n",
      "Requirement already satisfied: sympy==1.13.1 in c:\\users\\nethm\\miniconda3\\lib\\site-packages (from torch) (1.13.1)\n",
      "Requirement already satisfied: mpmath<1.4,>=1.1.0 in c:\\users\\nethm\\miniconda3\\lib\\site-packages (from sympy==1.13.1->torch) (1.3.0)\n",
      "Requirement already satisfied: numpy in c:\\users\\nethm\\miniconda3\\lib\\site-packages (from torchvision) (2.2.6)\n",
      "Requirement already satisfied: pillow!=8.3.*,>=5.3.0 in c:\\users\\nethm\\miniconda3\\lib\\site-packages (from torchvision) (11.3.0)\n",
      "Requirement already satisfied: contourpy>=1.0.1 in c:\\users\\nethm\\miniconda3\\lib\\site-packages (from matplotlib) (1.3.3)\n",
      "Requirement already satisfied: cycler>=0.10 in c:\\users\\nethm\\miniconda3\\lib\\site-packages (from matplotlib) (0.12.1)\n",
      "Requirement already satisfied: fonttools>=4.22.0 in c:\\users\\nethm\\miniconda3\\lib\\site-packages (from matplotlib) (4.60.1)\n",
      "Requirement already satisfied: kiwisolver>=1.3.1 in c:\\users\\nethm\\miniconda3\\lib\\site-packages (from matplotlib) (1.4.9)\n",
      "Requirement already satisfied: packaging>=20.0 in c:\\users\\nethm\\miniconda3\\lib\\site-packages (from matplotlib) (24.2)\n",
      "Requirement already satisfied: pyparsing>=3 in c:\\users\\nethm\\miniconda3\\lib\\site-packages (from matplotlib) (3.2.5)\n",
      "Requirement already satisfied: python-dateutil>=2.7 in c:\\users\\nethm\\miniconda3\\lib\\site-packages (from matplotlib) (2.9.0.post0)\n",
      "Requirement already satisfied: scipy>=1.8.0 in c:\\users\\nethm\\miniconda3\\lib\\site-packages (from scikit-learn) (1.16.2)\n",
      "Requirement already satisfied: joblib>=1.2.0 in c:\\users\\nethm\\miniconda3\\lib\\site-packages (from scikit-learn) (1.5.2)\n",
      "Requirement already satisfied: threadpoolctl>=3.1.0 in c:\\users\\nethm\\miniconda3\\lib\\site-packages (from scikit-learn) (3.6.0)\n",
      "Requirement already satisfied: colorama in c:\\users\\nethm\\miniconda3\\lib\\site-packages (from tqdm) (0.4.6)\n",
      "Requirement already satisfied: pyyaml in c:\\users\\nethm\\miniconda3\\lib\\site-packages (from timm) (6.0.3)\n",
      "Requirement already satisfied: huggingface_hub in c:\\users\\nethm\\miniconda3\\lib\\site-packages (from timm) (0.35.3)\n",
      "Requirement already satisfied: safetensors in c:\\users\\nethm\\miniconda3\\lib\\site-packages (from timm) (0.6.2)\n",
      "Requirement already satisfied: six>=1.5 in c:\\users\\nethm\\miniconda3\\lib\\site-packages (from python-dateutil>=2.7->matplotlib) (1.17.0)\n",
      "Requirement already satisfied: requests in c:\\users\\nethm\\miniconda3\\lib\\site-packages (from huggingface_hub->timm) (2.32.4)\n",
      "Requirement already satisfied: MarkupSafe>=2.0 in c:\\users\\nethm\\miniconda3\\lib\\site-packages (from jinja2->torch) (3.0.3)\n",
      "Requirement already satisfied: charset_normalizer<4,>=2 in c:\\users\\nethm\\miniconda3\\lib\\site-packages (from requests->huggingface_hub->timm) (3.3.2)\n",
      "Requirement already satisfied: idna<4,>=2.5 in c:\\users\\nethm\\miniconda3\\lib\\site-packages (from requests->huggingface_hub->timm) (3.7)\n",
      "Requirement already satisfied: urllib3<3,>=1.21.1 in c:\\users\\nethm\\miniconda3\\lib\\site-packages (from requests->huggingface_hub->timm) (2.5.0)\n",
      "Requirement already satisfied: certifi>=2017.4.17 in c:\\users\\nethm\\miniconda3\\lib\\site-packages (from requests->huggingface_hub->timm) (2025.10.5)\n",
      "Note: you may need to restart the kernel to use updated packages.\n",
      "Device: cuda\n",
      "CUDA version: 12.4\n",
      "Requirement already satisfied: torch in c:\\users\\nethm\\miniconda3\\lib\\site-packages (2.6.0+cu124)\n",
      "Requirement already satisfied: torchvision in c:\\users\\nethm\\miniconda3\\lib\\site-packages (0.21.0+cu124)\n",
      "Requirement already satisfied: matplotlib in c:\\users\\nethm\\miniconda3\\lib\\site-packages (3.10.7)\n",
      "Requirement already satisfied: scikit-learn in c:\\users\\nethm\\miniconda3\\lib\\site-packages (1.7.2)\n",
      "Requirement already satisfied: tqdm in c:\\users\\nethm\\miniconda3\\lib\\site-packages (4.67.1)\n",
      "Requirement already satisfied: timm in c:\\users\\nethm\\miniconda3\\lib\\site-packages (1.0.20)\n",
      "Requirement already satisfied: filelock in c:\\users\\nethm\\miniconda3\\lib\\site-packages (from torch) (3.20.0)\n",
      "Requirement already satisfied: typing-extensions>=4.10.0 in c:\\users\\nethm\\miniconda3\\lib\\site-packages (from torch) (4.12.2)\n",
      "Requirement already satisfied: networkx in c:\\users\\nethm\\miniconda3\\lib\\site-packages (from torch) (3.5)\n",
      "Requirement already satisfied: jinja2 in c:\\users\\nethm\\miniconda3\\lib\\site-packages (from torch) (3.1.6)\n",
      "Requirement already satisfied: fsspec in c:\\users\\nethm\\miniconda3\\lib\\site-packages (from torch) (2025.9.0)\n",
      "Requirement already satisfied: setuptools in c:\\users\\nethm\\miniconda3\\lib\\site-packages (from torch) (78.1.1)\n",
      "Requirement already satisfied: sympy==1.13.1 in c:\\users\\nethm\\miniconda3\\lib\\site-packages (from torch) (1.13.1)\n",
      "Requirement already satisfied: mpmath<1.4,>=1.1.0 in c:\\users\\nethm\\miniconda3\\lib\\site-packages (from sympy==1.13.1->torch) (1.3.0)\n",
      "Requirement already satisfied: numpy in c:\\users\\nethm\\miniconda3\\lib\\site-packages (from torchvision) (2.2.6)\n",
      "Requirement already satisfied: pillow!=8.3.*,>=5.3.0 in c:\\users\\nethm\\miniconda3\\lib\\site-packages (from torchvision) (11.3.0)\n",
      "Requirement already satisfied: contourpy>=1.0.1 in c:\\users\\nethm\\miniconda3\\lib\\site-packages (from matplotlib) (1.3.3)\n",
      "Requirement already satisfied: cycler>=0.10 in c:\\users\\nethm\\miniconda3\\lib\\site-packages (from matplotlib) (0.12.1)\n",
      "Requirement already satisfied: fonttools>=4.22.0 in c:\\users\\nethm\\miniconda3\\lib\\site-packages (from matplotlib) (4.60.1)\n",
      "Requirement already satisfied: kiwisolver>=1.3.1 in c:\\users\\nethm\\miniconda3\\lib\\site-packages (from matplotlib) (1.4.9)\n",
      "Requirement already satisfied: packaging>=20.0 in c:\\users\\nethm\\miniconda3\\lib\\site-packages (from matplotlib) (24.2)\n",
      "Requirement already satisfied: pyparsing>=3 in c:\\users\\nethm\\miniconda3\\lib\\site-packages (from matplotlib) (3.2.5)\n",
      "Requirement already satisfied: python-dateutil>=2.7 in c:\\users\\nethm\\miniconda3\\lib\\site-packages (from matplotlib) (2.9.0.post0)\n",
      "Requirement already satisfied: scipy>=1.8.0 in c:\\users\\nethm\\miniconda3\\lib\\site-packages (from scikit-learn) (1.16.2)\n",
      "Requirement already satisfied: joblib>=1.2.0 in c:\\users\\nethm\\miniconda3\\lib\\site-packages (from scikit-learn) (1.5.2)\n",
      "Requirement already satisfied: threadpoolctl>=3.1.0 in c:\\users\\nethm\\miniconda3\\lib\\site-packages (from scikit-learn) (3.6.0)\n",
      "Requirement already satisfied: colorama in c:\\users\\nethm\\miniconda3\\lib\\site-packages (from tqdm) (0.4.6)\n",
      "Requirement already satisfied: pyyaml in c:\\users\\nethm\\miniconda3\\lib\\site-packages (from timm) (6.0.3)\n",
      "Requirement already satisfied: huggingface_hub in c:\\users\\nethm\\miniconda3\\lib\\site-packages (from timm) (0.35.3)\n",
      "Requirement already satisfied: safetensors in c:\\users\\nethm\\miniconda3\\lib\\site-packages (from timm) (0.6.2)\n",
      "Requirement already satisfied: six>=1.5 in c:\\users\\nethm\\miniconda3\\lib\\site-packages (from python-dateutil>=2.7->matplotlib) (1.17.0)\n",
      "Requirement already satisfied: requests in c:\\users\\nethm\\miniconda3\\lib\\site-packages (from huggingface_hub->timm) (2.32.4)\n",
      "Requirement already satisfied: MarkupSafe>=2.0 in c:\\users\\nethm\\miniconda3\\lib\\site-packages (from jinja2->torch) (3.0.3)\n",
      "Requirement already satisfied: charset_normalizer<4,>=2 in c:\\users\\nethm\\miniconda3\\lib\\site-packages (from requests->huggingface_hub->timm) (3.3.2)\n",
      "Requirement already satisfied: idna<4,>=2.5 in c:\\users\\nethm\\miniconda3\\lib\\site-packages (from requests->huggingface_hub->timm) (3.7)\n",
      "Requirement already satisfied: urllib3<3,>=1.21.1 in c:\\users\\nethm\\miniconda3\\lib\\site-packages (from requests->huggingface_hub->timm) (2.5.0)\n",
      "Requirement already satisfied: certifi>=2017.4.17 in c:\\users\\nethm\\miniconda3\\lib\\site-packages (from requests->huggingface_hub->timm) (2025.10.5)\n",
      "Note: you may need to restart the kernel to use updated packages.\n",
      "Device: cuda\n",
      "CUDA version: 12.4\n"
     ]
    }
   ],
   "source": [
    "# Environment & imports\n",
    "# Install PyTorch with CUDA support (run this cell first if CUDA is not available)\n",
    "# Your system has CUDA 12.7, so use cu124 (compatible with CUDA 12.x):\n",
    "!pip install torch torchvision torchaudio --index-url https://download.pytorch.org/whl/cu124\n",
    "# Alternative for CUDA 12.1:\n",
    "# !pip install torch torchvision torchaudio --index-url https://download.pytorch.org/whl/cu121\n",
    "\n",
    "# Install other packages\n",
    "%pip install torch torchvision matplotlib scikit-learn tqdm timm\n",
    "import os\n",
    "import time\n",
    "import copy\n",
    "from pathlib import Path\n",
    "import numpy as np\n",
    "import matplotlib.pyplot as plt\n",
    "from tqdm import tqdm\n",
    "\n",
    "import torch\n",
    "import torch.nn as nn\n",
    "import torch.optim as optim\n",
    "from torch.utils.data import DataLoader\n",
    "from torchvision import transforms, datasets, models\n",
    "\n",
    "from sklearn.metrics import classification_report, confusion_matrix, f1_score, accuracy_score\n",
    "\n",
    "# Force GPU usage\n",
    "if not torch.cuda.is_available():\n",
    "    print(\"CUDA not available. Installing CPU version of PyTorch...\")\n",
    "    # Install CPU version if GPU not available\n",
    "    !pip install torch torchvision torchaudio --index-url https://download.pytorch.org/whl/cpu\n",
    "    import torch\n",
    "    device = torch.device(\"cpu\")\n",
    "    print(\"Using CPU. To use GPU, install CUDA and PyTorch with CUDA support.\")\n",
    "else:\n",
    "    device = torch.device(\"cuda\")\n",
    "    print(\"Device:\", device)\n",
    "    print(\"CUDA version:\", torch.version.cuda if torch.cuda.is_available() else \"N/A\")"
   ]
  },
  {
   "cell_type": "code",
   "execution_count": 9,
   "id": "484b910d",
   "metadata": {},
   "outputs": [
    {
     "name": "stdout",
     "output_type": "stream",
     "text": [
      "Classes (10): ['Actinic keratoses', 'Chickenpox', 'Cowpox', 'Dermatofibroma', 'HFMD', 'Healthy', 'Measles', 'Monkeypox', 'Squamous cell carcinoma', 'Vascular lesions']\n",
      "Train size: 10648  Val size: 1327\n"
     ]
    }
   ],
   "source": [
    "# Paths (change these to your dataset locations)\n",
    "train_dir = r\"D:\\archive\\train\"\n",
    "val_dir   = r\"D:\\archive\\val\"\n",
    "\n",
    "# Data transforms and augmentation\n",
    "train_transforms = transforms.Compose([\n",
    "    transforms.RandomResizedCrop(224),\n",
    "    transforms.RandomHorizontalFlip(),\n",
    "    transforms.RandomRotation(20),\n",
    "    transforms.ColorJitter(brightness=0.1, contrast=0.1, saturation=0.1),\n",
    "    transforms.ToTensor(),\n",
    "    transforms.Normalize([0.485, 0.456, 0.406],\n",
    "                         [0.229, 0.224, 0.225])\n",
    "])\n",
    "\n",
    "val_transforms = transforms.Compose([\n",
    "    transforms.Resize(256),\n",
    "    transforms.CenterCrop(224),\n",
    "    transforms.ToTensor(),\n",
    "    transforms.Normalize([0.485, 0.456, 0.406],\n",
    "                         [0.229, 0.224, 0.225])\n",
    "])\n",
    "\n",
    "train_dataset = datasets.ImageFolder(train_dir, transform=train_transforms)\n",
    "val_dataset   = datasets.ImageFolder(val_dir, transform=val_transforms)\n",
    "\n",
    "batch_size = 32\n",
    "num_workers = 4\n",
    "train_loader = DataLoader(train_dataset, batch_size=batch_size, shuffle=True, num_workers=num_workers)\n",
    "val_loader   = DataLoader(val_dataset, batch_size=batch_size, shuffle=False, num_workers=num_workers)\n",
    "\n",
    "class_names = train_dataset.classes\n",
    "num_classes = len(class_names)\n",
    "print(\"Classes ({}):\".format(num_classes), class_names)\n",
    "print(\"Train size:\", len(train_dataset), \" Val size:\", len(val_dataset))\n"
   ]
  },
  {
   "cell_type": "code",
   "execution_count": 10,
   "id": "61712fbe",
   "metadata": {},
   "outputs": [
    {
     "name": "stdout",
     "output_type": "stream",
     "text": [
      "Class counts: [693, 900, 792, 191, 1932, 1368, 660, 3408, 502, 202]\n",
      "Class weights: tensor([15.3651, 11.8311, 13.4444, 55.7487,  5.5114,  7.7836, 16.1333,  3.1244,\n",
      "        21.2112, 52.7129], device='cuda:0')\n"
     ]
    }
   ],
   "source": [
    "# Compute class weights to address imbalance\n",
    "from collections import Counter\n",
    "counts = Counter([y for _, y in train_dataset.samples])\n",
    "counts = [counts[i] for i in range(len(class_names))]\n",
    "print(\"Class counts:\", counts)\n",
    "class_weights = torch.tensor([sum(counts)/c for c in counts], dtype=torch.float).to(device)\n",
    "print(\"Class weights:\", class_weights)\n",
    "\n",
    "criterion = nn.CrossEntropyLoss(weight=class_weights)\n"
   ]
  },
  {
   "cell_type": "code",
   "execution_count": 11,
   "id": "07339a8a",
   "metadata": {},
   "outputs": [],
   "source": [
    "# EfficientNet-B0 (torchvision if available)\n",
    "try:\n",
    "    model = models.efficientnet_b0(weights=models.EfficientNet_B0_Weights.IMAGENET1K_V1)\n",
    "    num_ftrs = model.classifier[1].in_features\n",
    "    model.classifier[1] = nn.Linear(num_ftrs, num_classes)\n",
    "except Exception as e:\n",
    "    # If torchvision doesn't have efficientnet in your environment, use timm (uncomment install if needed)\n",
    "    # !pip install timm -q\n",
    "    import timm\n",
    "    model = timm.create_model('efficientnet_b0', pretrained=True, num_classes=num_classes)\n",
    "model = model.to(device)"
   ]
  },
  {
   "cell_type": "code",
   "execution_count": 12,
   "id": "54a2005c",
   "metadata": {},
   "outputs": [],
   "source": [
    "# Optimizer, scheduler\n",
    "optimizer = optim.Adam(model.parameters(), lr=1e-4, weight_decay=1e-5)\n",
    "# Optional scheduler\n",
    "# scheduler = optim.lr_scheduler.StepLR(optimizer, step_size=7, gamma=0.1)\n",
    "scheduler = None\n",
    "num_epochs = 40  # change as needed\n"
   ]
  },
  {
   "cell_type": "code",
   "execution_count": 13,
   "id": "a7ddaa07",
   "metadata": {},
   "outputs": [],
   "source": [
    "def train_model(model, criterion, optimizer, scheduler=None, num_epochs=40, model_name=\"model\", early_stopping_patience=10):\n",
    "    since = time.time()\n",
    "    best_model_wts = copy.deepcopy(model.state_dict())\n",
    "    best_f1 = 0.0\n",
    "\n",
    "    history = {\"train_loss\":[],\"val_loss\":[],\"train_acc\":[],\"val_acc\":[], \"val_f1\":[]}\n",
    "\n",
    "    epochs_no_improve = 0 if early_stopping_patience is not None else None\n",
    "\n",
    "    for epoch in range(num_epochs):\n",
    "        print(\"Epoch {}/{}\".format(epoch+1, num_epochs))\n",
    "        # Each epoch has a training and validation phase\n",
    "        for phase in [\"train\",\"val\"]:\n",
    "            if phase == \"train\":\n",
    "                model.train()\n",
    "                loader = train_loader\n",
    "            else:\n",
    "                model.eval()\n",
    "                loader = val_loader\n",
    "\n",
    "            running_loss = 0.0\n",
    "            running_corrects = 0\n",
    "            y_true = []\n",
    "            y_pred = []\n",
    "\n",
    "            for inputs, labels in tqdm(loader):\n",
    "                inputs = inputs.to(device)\n",
    "                labels = labels.to(device)\n",
    "\n",
    "                optimizer.zero_grad()\n",
    "                with torch.set_grad_enabled(phase == \"train\"):\n",
    "                    outputs = model(inputs)\n",
    "                    _, preds = torch.max(outputs, 1)\n",
    "                    loss = criterion(outputs, labels)\n",
    "\n",
    "                    if phase == \"train\":\n",
    "                        loss.backward()\n",
    "                        optimizer.step()\n",
    "\n",
    "                running_loss += loss.item() * inputs.size(0)\n",
    "                running_corrects += torch.sum(preds == labels.data).item()\n",
    "                y_true.extend(labels.cpu().numpy().tolist())\n",
    "                y_pred.extend(preds.cpu().numpy().tolist())\n",
    "\n",
    "            epoch_loss = running_loss / (len(loader.dataset))\n",
    "            epoch_acc = running_corrects / (len(loader.dataset))\n",
    "            epoch_f1 = f1_score(y_true, y_pred, average='macro')\n",
    "            print(\"{} Loss: {:.4f} Acc: {:.4f} F1: {:.4f}\".format(phase, epoch_loss, epoch_acc, epoch_f1))\n",
    "\n",
    "            if phase == \"train\":\n",
    "                history[\"train_loss\"].append(epoch_loss)\n",
    "                history[\"train_acc\"].append(epoch_acc)\n",
    "            else:\n",
    "                history[\"val_loss\"].append(epoch_loss)\n",
    "                history[\"val_acc\"].append(epoch_acc)\n",
    "                history[\"val_f1\"].append(epoch_f1)\n",
    "                # deep copy the model\n",
    "                if epoch_f1 > best_f1:\n",
    "                    best_f1 = epoch_f1\n",
    "                    best_model_wts = copy.deepcopy(model.state_dict())\n",
    "                    torch.save(model.state_dict(), f\"{model_name}_best.pth\")\n",
    "                    if early_stopping_patience is not None:\n",
    "                        epochs_no_improve = 0\n",
    "                else:\n",
    "                    if early_stopping_patience is not None:\n",
    "                        epochs_no_improve += 1\n",
    "\n",
    "        if early_stopping_patience is not None and epochs_no_improve >= early_stopping_patience:\n",
    "            print(f\"Early stopping at epoch {epoch+1}\")\n",
    "            break\n",
    "\n",
    "        if scheduler is not None:\n",
    "            scheduler.step()\n",
    "        print(\"-\"*40)\n",
    "\n",
    "    time_elapsed = time.time() - since\n",
    "    print(\"Training complete in {:.0f}m {:.0f}s\".format(time_elapsed // 60, time_elapsed % 60))\n",
    "    print(\"Best val F1: {:.4f}\".format(best_f1))\n",
    "\n",
    "    # load best model weights\n",
    "    model.load_state_dict(best_model_wts)\n",
    "    return model, history"
   ]
  },
  {
   "cell_type": "code",
   "execution_count": 14,
   "id": "402a6221",
   "metadata": {},
   "outputs": [
    {
     "name": "stdout",
     "output_type": "stream",
     "text": [
      "Epoch 1/40\n"
     ]
    },
    {
     "name": "stderr",
     "output_type": "stream",
     "text": [
      "100%|██████████| 333/333 [01:37<00:00,  3.41it/s]\n",
      "100%|██████████| 333/333 [01:37<00:00,  3.41it/s]\n"
     ]
    },
    {
     "name": "stdout",
     "output_type": "stream",
     "text": [
      "train Loss: 1.3612 Acc: 0.4984 F1: 0.4668\n"
     ]
    },
    {
     "name": "stderr",
     "output_type": "stream",
     "text": [
      "100%|██████████| 42/42 [00:13<00:00,  3.19it/s]\n",
      "\n"
     ]
    },
    {
     "name": "stdout",
     "output_type": "stream",
     "text": [
      "val Loss: 0.8246 Acc: 0.7046 F1: 0.7196\n",
      "----------------------------------------\n",
      "Epoch 2/40\n"
     ]
    },
    {
     "name": "stderr",
     "output_type": "stream",
     "text": [
      "100%|██████████| 333/333 [01:44<00:00,  3.20it/s]\n",
      "100%|██████████| 333/333 [01:44<00:00,  3.20it/s]\n"
     ]
    },
    {
     "name": "stdout",
     "output_type": "stream",
     "text": [
      "train Loss: 0.7413 Acc: 0.6916 F1: 0.6891\n"
     ]
    },
    {
     "name": "stderr",
     "output_type": "stream",
     "text": [
      "100%|██████████| 42/42 [00:08<00:00,  5.21it/s]\n",
      "\n"
     ]
    },
    {
     "name": "stdout",
     "output_type": "stream",
     "text": [
      "val Loss: 0.5301 Acc: 0.8033 F1: 0.8099\n",
      "----------------------------------------\n",
      "Epoch 3/40\n"
     ]
    },
    {
     "name": "stderr",
     "output_type": "stream",
     "text": [
      "100%|██████████| 333/333 [01:48<00:00,  3.07it/s]\n",
      "\n"
     ]
    },
    {
     "name": "stdout",
     "output_type": "stream",
     "text": [
      "train Loss: 0.5764 Acc: 0.7599 F1: 0.7495\n"
     ]
    },
    {
     "name": "stderr",
     "output_type": "stream",
     "text": [
      "100%|██████████| 42/42 [00:08<00:00,  5.21it/s]\n",
      "\n"
     ]
    },
    {
     "name": "stdout",
     "output_type": "stream",
     "text": [
      "val Loss: 0.4084 Acc: 0.8380 F1: 0.8267\n",
      "----------------------------------------\n",
      "Epoch 4/40\n"
     ]
    },
    {
     "name": "stderr",
     "output_type": "stream",
     "text": [
      "100%|██████████| 333/333 [01:51<00:00,  2.98it/s]\n",
      "100%|██████████| 333/333 [01:51<00:00,  2.98it/s]\n"
     ]
    },
    {
     "name": "stdout",
     "output_type": "stream",
     "text": [
      "train Loss: 0.4904 Acc: 0.7917 F1: 0.7801\n"
     ]
    },
    {
     "name": "stderr",
     "output_type": "stream",
     "text": [
      "100%|██████████| 42/42 [00:08<00:00,  5.23it/s]\n",
      "\n"
     ]
    },
    {
     "name": "stdout",
     "output_type": "stream",
     "text": [
      "val Loss: 0.3129 Acc: 0.8855 F1: 0.8812\n",
      "----------------------------------------\n",
      "Epoch 5/40\n"
     ]
    },
    {
     "name": "stderr",
     "output_type": "stream",
     "text": [
      "100%|██████████| 333/333 [01:47<00:00,  3.10it/s]\n",
      "100%|██████████| 333/333 [01:47<00:00,  3.10it/s]\n"
     ]
    },
    {
     "name": "stdout",
     "output_type": "stream",
     "text": [
      "train Loss: 0.4168 Acc: 0.8263 F1: 0.8143\n"
     ]
    },
    {
     "name": "stderr",
     "output_type": "stream",
     "text": [
      "100%|██████████| 42/42 [00:07<00:00,  5.28it/s]\n",
      "\n"
     ]
    },
    {
     "name": "stdout",
     "output_type": "stream",
     "text": [
      "val Loss: 0.2349 Acc: 0.9073 F1: 0.8973\n",
      "----------------------------------------\n",
      "Epoch 6/40\n"
     ]
    },
    {
     "name": "stderr",
     "output_type": "stream",
     "text": [
      "100%|██████████| 333/333 [01:30<00:00,  3.67it/s]\n",
      "100%|██████████| 333/333 [01:30<00:00,  3.67it/s]\n"
     ]
    },
    {
     "name": "stdout",
     "output_type": "stream",
     "text": [
      "train Loss: 0.3837 Acc: 0.8391 F1: 0.8254\n"
     ]
    },
    {
     "name": "stderr",
     "output_type": "stream",
     "text": [
      "100%|██████████| 42/42 [00:07<00:00,  5.50it/s]\n",
      "100%|██████████| 42/42 [00:07<00:00,  5.50it/s]\n"
     ]
    },
    {
     "name": "stdout",
     "output_type": "stream",
     "text": [
      "val Loss: 0.2211 Acc: 0.9186 F1: 0.8828\n",
      "----------------------------------------\n",
      "Epoch 7/40\n"
     ]
    },
    {
     "name": "stderr",
     "output_type": "stream",
     "text": [
      "100%|██████████| 333/333 [01:27<00:00,  3.81it/s]\n",
      "100%|██████████| 333/333 [01:27<00:00,  3.81it/s]\n"
     ]
    },
    {
     "name": "stdout",
     "output_type": "stream",
     "text": [
      "train Loss: 0.3701 Acc: 0.8510 F1: 0.8367\n"
     ]
    },
    {
     "name": "stderr",
     "output_type": "stream",
     "text": [
      "100%|██████████| 42/42 [00:07<00:00,  5.28it/s]\n",
      "100%|██████████| 42/42 [00:07<00:00,  5.28it/s]\n"
     ]
    },
    {
     "name": "stdout",
     "output_type": "stream",
     "text": [
      "val Loss: 0.2106 Acc: 0.9194 F1: 0.8937\n",
      "----------------------------------------\n",
      "Epoch 8/40\n"
     ]
    },
    {
     "name": "stderr",
     "output_type": "stream",
     "text": [
      "100%|██████████| 333/333 [01:33<00:00,  3.56it/s]\n",
      "100%|██████████| 333/333 [01:33<00:00,  3.56it/s]\n"
     ]
    },
    {
     "name": "stdout",
     "output_type": "stream",
     "text": [
      "train Loss: 0.3197 Acc: 0.8681 F1: 0.8555\n"
     ]
    },
    {
     "name": "stderr",
     "output_type": "stream",
     "text": [
      "100%|██████████| 42/42 [00:09<00:00,  4.60it/s]\n",
      "\n"
     ]
    },
    {
     "name": "stdout",
     "output_type": "stream",
     "text": [
      "val Loss: 0.2092 Acc: 0.9216 F1: 0.8977\n",
      "----------------------------------------\n",
      "Epoch 9/40\n"
     ]
    },
    {
     "name": "stderr",
     "output_type": "stream",
     "text": [
      "100%|██████████| 333/333 [01:34<00:00,  3.54it/s]\n",
      "100%|██████████| 333/333 [01:34<00:00,  3.54it/s]\n"
     ]
    },
    {
     "name": "stdout",
     "output_type": "stream",
     "text": [
      "train Loss: 0.3227 Acc: 0.8725 F1: 0.8575\n"
     ]
    },
    {
     "name": "stderr",
     "output_type": "stream",
     "text": [
      "100%|██████████| 42/42 [00:07<00:00,  5.45it/s]\n",
      "\n"
     ]
    },
    {
     "name": "stdout",
     "output_type": "stream",
     "text": [
      "val Loss: 0.1306 Acc: 0.9533 F1: 0.9346\n",
      "----------------------------------------\n",
      "Epoch 10/40\n"
     ]
    },
    {
     "name": "stderr",
     "output_type": "stream",
     "text": [
      "100%|██████████| 333/333 [01:30<00:00,  3.68it/s]\n",
      "100%|██████████| 333/333 [01:30<00:00,  3.68it/s]\n"
     ]
    },
    {
     "name": "stdout",
     "output_type": "stream",
     "text": [
      "train Loss: 0.3025 Acc: 0.8794 F1: 0.8665\n"
     ]
    },
    {
     "name": "stderr",
     "output_type": "stream",
     "text": [
      "100%|██████████| 42/42 [00:07<00:00,  5.37it/s]\n",
      "\n"
     ]
    },
    {
     "name": "stdout",
     "output_type": "stream",
     "text": [
      "val Loss: 0.1356 Acc: 0.9563 F1: 0.9429\n",
      "----------------------------------------\n",
      "Epoch 11/40\n"
     ]
    },
    {
     "name": "stderr",
     "output_type": "stream",
     "text": [
      "100%|██████████| 333/333 [01:31<00:00,  3.65it/s]\n",
      "100%|██████████| 333/333 [01:31<00:00,  3.65it/s]\n"
     ]
    },
    {
     "name": "stdout",
     "output_type": "stream",
     "text": [
      "train Loss: 0.2740 Acc: 0.8883 F1: 0.8755\n"
     ]
    },
    {
     "name": "stderr",
     "output_type": "stream",
     "text": [
      "100%|██████████| 42/42 [00:08<00:00,  4.79it/s]\n",
      "\n"
     ]
    },
    {
     "name": "stdout",
     "output_type": "stream",
     "text": [
      "val Loss: 0.1307 Acc: 0.9540 F1: 0.9429\n",
      "----------------------------------------\n",
      "Epoch 12/40\n"
     ]
    },
    {
     "name": "stderr",
     "output_type": "stream",
     "text": [
      "100%|██████████| 333/333 [01:30<00:00,  3.67it/s]\n",
      "100%|██████████| 333/333 [01:30<00:00,  3.67it/s]\n"
     ]
    },
    {
     "name": "stdout",
     "output_type": "stream",
     "text": [
      "train Loss: 0.2665 Acc: 0.8923 F1: 0.8791\n"
     ]
    },
    {
     "name": "stderr",
     "output_type": "stream",
     "text": [
      "100%|██████████| 42/42 [00:07<00:00,  5.31it/s]\n",
      "100%|██████████| 42/42 [00:07<00:00,  5.31it/s]\n"
     ]
    },
    {
     "name": "stdout",
     "output_type": "stream",
     "text": [
      "val Loss: 0.1434 Acc: 0.9472 F1: 0.9228\n",
      "----------------------------------------\n",
      "Epoch 13/40\n"
     ]
    },
    {
     "name": "stderr",
     "output_type": "stream",
     "text": [
      "100%|██████████| 333/333 [01:31<00:00,  3.65it/s]\n",
      "100%|██████████| 333/333 [01:31<00:00,  3.65it/s]\n"
     ]
    },
    {
     "name": "stdout",
     "output_type": "stream",
     "text": [
      "train Loss: 0.2542 Acc: 0.8979 F1: 0.8849\n"
     ]
    },
    {
     "name": "stderr",
     "output_type": "stream",
     "text": [
      "100%|██████████| 42/42 [00:07<00:00,  5.41it/s]\n",
      "100%|██████████| 42/42 [00:07<00:00,  5.41it/s]\n"
     ]
    },
    {
     "name": "stdout",
     "output_type": "stream",
     "text": [
      "val Loss: 0.1377 Acc: 0.9488 F1: 0.9316\n",
      "----------------------------------------\n",
      "Epoch 14/40\n"
     ]
    },
    {
     "name": "stderr",
     "output_type": "stream",
     "text": [
      "100%|██████████| 333/333 [01:32<00:00,  3.60it/s]\n",
      "100%|██████████| 333/333 [01:32<00:00,  3.60it/s]\n"
     ]
    },
    {
     "name": "stdout",
     "output_type": "stream",
     "text": [
      "train Loss: 0.2331 Acc: 0.9068 F1: 0.9049\n"
     ]
    },
    {
     "name": "stderr",
     "output_type": "stream",
     "text": [
      "100%|██████████| 42/42 [00:08<00:00,  4.86it/s]\n",
      "100%|██████████| 42/42 [00:08<00:00,  4.86it/s]\n"
     ]
    },
    {
     "name": "stdout",
     "output_type": "stream",
     "text": [
      "val Loss: 0.1368 Acc: 0.9631 F1: 0.9422\n",
      "----------------------------------------\n",
      "Epoch 15/40\n"
     ]
    },
    {
     "name": "stderr",
     "output_type": "stream",
     "text": [
      "100%|██████████| 333/333 [01:29<00:00,  3.72it/s]\n",
      "100%|██████████| 333/333 [01:29<00:00,  3.72it/s]\n"
     ]
    },
    {
     "name": "stdout",
     "output_type": "stream",
     "text": [
      "train Loss: 0.2065 Acc: 0.9134 F1: 0.9089\n"
     ]
    },
    {
     "name": "stderr",
     "output_type": "stream",
     "text": [
      "100%|██████████| 42/42 [00:07<00:00,  5.35it/s]\n",
      "\n"
     ]
    },
    {
     "name": "stdout",
     "output_type": "stream",
     "text": [
      "val Loss: 0.1222 Acc: 0.9563 F1: 0.9437\n",
      "----------------------------------------\n",
      "Epoch 16/40\n"
     ]
    },
    {
     "name": "stderr",
     "output_type": "stream",
     "text": [
      "100%|██████████| 333/333 [01:31<00:00,  3.63it/s]\n",
      "100%|██████████| 333/333 [01:31<00:00,  3.63it/s]\n"
     ]
    },
    {
     "name": "stdout",
     "output_type": "stream",
     "text": [
      "train Loss: 0.2266 Acc: 0.9120 F1: 0.9057\n"
     ]
    },
    {
     "name": "stderr",
     "output_type": "stream",
     "text": [
      "100%|██████████| 42/42 [00:08<00:00,  4.90it/s]\n",
      "\n"
     ]
    },
    {
     "name": "stdout",
     "output_type": "stream",
     "text": [
      "val Loss: 0.1228 Acc: 0.9646 F1: 0.9498\n",
      "----------------------------------------\n",
      "Epoch 17/40\n"
     ]
    },
    {
     "name": "stderr",
     "output_type": "stream",
     "text": [
      "100%|██████████| 333/333 [01:31<00:00,  3.63it/s]\n",
      "100%|██████████| 333/333 [01:31<00:00,  3.63it/s]\n"
     ]
    },
    {
     "name": "stdout",
     "output_type": "stream",
     "text": [
      "train Loss: 0.2179 Acc: 0.9183 F1: 0.9114\n"
     ]
    },
    {
     "name": "stderr",
     "output_type": "stream",
     "text": [
      "100%|██████████| 42/42 [00:09<00:00,  4.63it/s]\n",
      "\n"
     ]
    },
    {
     "name": "stdout",
     "output_type": "stream",
     "text": [
      "val Loss: 0.0972 Acc: 0.9668 F1: 0.9534\n",
      "----------------------------------------\n",
      "Epoch 18/40\n"
     ]
    },
    {
     "name": "stderr",
     "output_type": "stream",
     "text": [
      "100%|██████████| 333/333 [01:31<00:00,  3.64it/s]\n",
      "100%|██████████| 333/333 [01:31<00:00,  3.64it/s]\n"
     ]
    },
    {
     "name": "stdout",
     "output_type": "stream",
     "text": [
      "train Loss: 0.1997 Acc: 0.9243 F1: 0.9141\n"
     ]
    },
    {
     "name": "stderr",
     "output_type": "stream",
     "text": [
      "100%|██████████| 42/42 [00:07<00:00,  5.36it/s]\n",
      "100%|██████████| 42/42 [00:07<00:00,  5.36it/s]\n"
     ]
    },
    {
     "name": "stdout",
     "output_type": "stream",
     "text": [
      "val Loss: 0.1134 Acc: 0.9593 F1: 0.9465\n",
      "----------------------------------------\n",
      "Epoch 19/40\n"
     ]
    },
    {
     "name": "stderr",
     "output_type": "stream",
     "text": [
      "100%|██████████| 333/333 [01:32<00:00,  3.59it/s]\n",
      "100%|██████████| 333/333 [01:32<00:00,  3.59it/s]\n"
     ]
    },
    {
     "name": "stdout",
     "output_type": "stream",
     "text": [
      "train Loss: 0.1907 Acc: 0.9236 F1: 0.9184\n"
     ]
    },
    {
     "name": "stderr",
     "output_type": "stream",
     "text": [
      "100%|██████████| 42/42 [00:10<00:00,  3.97it/s]\n",
      "\n"
     ]
    },
    {
     "name": "stdout",
     "output_type": "stream",
     "text": [
      "val Loss: 0.0956 Acc: 0.9676 F1: 0.9544\n",
      "----------------------------------------\n",
      "Epoch 20/40\n"
     ]
    },
    {
     "name": "stderr",
     "output_type": "stream",
     "text": [
      "100%|██████████| 333/333 [01:31<00:00,  3.66it/s]\n",
      "\n"
     ]
    },
    {
     "name": "stdout",
     "output_type": "stream",
     "text": [
      "train Loss: 0.1804 Acc: 0.9267 F1: 0.9221\n"
     ]
    },
    {
     "name": "stderr",
     "output_type": "stream",
     "text": [
      "100%|██████████| 42/42 [00:07<00:00,  5.40it/s]\n",
      "\n"
     ]
    },
    {
     "name": "stdout",
     "output_type": "stream",
     "text": [
      "val Loss: 0.0868 Acc: 0.9736 F1: 0.9610\n",
      "----------------------------------------\n",
      "Epoch 21/40\n"
     ]
    },
    {
     "name": "stderr",
     "output_type": "stream",
     "text": [
      "100%|██████████| 333/333 [01:33<00:00,  3.57it/s]\n",
      "100%|██████████| 333/333 [01:33<00:00,  3.57it/s]\n"
     ]
    },
    {
     "name": "stdout",
     "output_type": "stream",
     "text": [
      "train Loss: 0.1831 Acc: 0.9289 F1: 0.9228\n"
     ]
    },
    {
     "name": "stderr",
     "output_type": "stream",
     "text": [
      "100%|██████████| 42/42 [00:07<00:00,  5.28it/s]\n",
      "100%|██████████| 42/42 [00:07<00:00,  5.28it/s]\n"
     ]
    },
    {
     "name": "stdout",
     "output_type": "stream",
     "text": [
      "val Loss: 0.1035 Acc: 0.9668 F1: 0.9493\n",
      "----------------------------------------\n",
      "Epoch 22/40\n"
     ]
    },
    {
     "name": "stderr",
     "output_type": "stream",
     "text": [
      "100%|██████████| 333/333 [01:29<00:00,  3.74it/s]\n",
      "100%|██████████| 333/333 [01:29<00:00,  3.74it/s]\n"
     ]
    },
    {
     "name": "stdout",
     "output_type": "stream",
     "text": [
      "train Loss: 0.1732 Acc: 0.9310 F1: 0.9226\n"
     ]
    },
    {
     "name": "stderr",
     "output_type": "stream",
     "text": [
      "100%|██████████| 42/42 [00:07<00:00,  5.54it/s]\n",
      "100%|██████████| 42/42 [00:07<00:00,  5.54it/s]\n"
     ]
    },
    {
     "name": "stdout",
     "output_type": "stream",
     "text": [
      "val Loss: 0.1125 Acc: 0.9714 F1: 0.9591\n",
      "----------------------------------------\n",
      "Epoch 23/40\n"
     ]
    },
    {
     "name": "stderr",
     "output_type": "stream",
     "text": [
      "100%|██████████| 333/333 [01:27<00:00,  3.81it/s]\n",
      "100%|██████████| 333/333 [01:27<00:00,  3.81it/s]\n"
     ]
    },
    {
     "name": "stdout",
     "output_type": "stream",
     "text": [
      "train Loss: 0.1669 Acc: 0.9301 F1: 0.9253\n"
     ]
    },
    {
     "name": "stderr",
     "output_type": "stream",
     "text": [
      "100%|██████████| 42/42 [00:07<00:00,  5.64it/s]\n",
      "100%|██████████| 42/42 [00:07<00:00,  5.64it/s]\n"
     ]
    },
    {
     "name": "stdout",
     "output_type": "stream",
     "text": [
      "val Loss: 0.1198 Acc: 0.9586 F1: 0.9382\n",
      "----------------------------------------\n",
      "Epoch 24/40\n"
     ]
    },
    {
     "name": "stderr",
     "output_type": "stream",
     "text": [
      "100%|██████████| 333/333 [01:30<00:00,  3.69it/s]\n",
      "100%|██████████| 333/333 [01:30<00:00,  3.69it/s]\n"
     ]
    },
    {
     "name": "stdout",
     "output_type": "stream",
     "text": [
      "train Loss: 0.1641 Acc: 0.9312 F1: 0.9292\n"
     ]
    },
    {
     "name": "stderr",
     "output_type": "stream",
     "text": [
      "100%|██████████| 42/42 [00:08<00:00,  5.10it/s]\n",
      "\n"
     ]
    },
    {
     "name": "stdout",
     "output_type": "stream",
     "text": [
      "val Loss: 0.0896 Acc: 0.9766 F1: 0.9677\n",
      "----------------------------------------\n",
      "Epoch 25/40\n"
     ]
    },
    {
     "name": "stderr",
     "output_type": "stream",
     "text": [
      "100%|██████████| 333/333 [01:30<00:00,  3.70it/s]\n",
      "\n"
     ]
    },
    {
     "name": "stdout",
     "output_type": "stream",
     "text": [
      "train Loss: 0.1540 Acc: 0.9378 F1: 0.9344\n"
     ]
    },
    {
     "name": "stderr",
     "output_type": "stream",
     "text": [
      "100%|██████████| 42/42 [00:07<00:00,  5.60it/s]\n",
      "100%|██████████| 42/42 [00:07<00:00,  5.60it/s]\n"
     ]
    },
    {
     "name": "stdout",
     "output_type": "stream",
     "text": [
      "val Loss: 0.0948 Acc: 0.9699 F1: 0.9512\n",
      "----------------------------------------\n",
      "Epoch 26/40\n"
     ]
    },
    {
     "name": "stderr",
     "output_type": "stream",
     "text": [
      "100%|██████████| 333/333 [01:31<00:00,  3.65it/s]\n",
      "100%|██████████| 333/333 [01:31<00:00,  3.65it/s]\n"
     ]
    },
    {
     "name": "stdout",
     "output_type": "stream",
     "text": [
      "train Loss: 0.1511 Acc: 0.9375 F1: 0.9363\n"
     ]
    },
    {
     "name": "stderr",
     "output_type": "stream",
     "text": [
      "100%|██████████| 42/42 [00:07<00:00,  5.35it/s]\n",
      "100%|██████████| 42/42 [00:07<00:00,  5.35it/s]\n"
     ]
    },
    {
     "name": "stdout",
     "output_type": "stream",
     "text": [
      "val Loss: 0.0949 Acc: 0.9706 F1: 0.9581\n",
      "----------------------------------------\n",
      "Epoch 27/40\n"
     ]
    },
    {
     "name": "stderr",
     "output_type": "stream",
     "text": [
      "100%|██████████| 333/333 [01:26<00:00,  3.85it/s]\n",
      "100%|██████████| 333/333 [01:26<00:00,  3.85it/s]\n"
     ]
    },
    {
     "name": "stdout",
     "output_type": "stream",
     "text": [
      "train Loss: 0.1498 Acc: 0.9408 F1: 0.9333\n"
     ]
    },
    {
     "name": "stderr",
     "output_type": "stream",
     "text": [
      "100%|██████████| 42/42 [00:07<00:00,  5.51it/s]\n",
      "100%|██████████| 42/42 [00:07<00:00,  5.51it/s]\n"
     ]
    },
    {
     "name": "stdout",
     "output_type": "stream",
     "text": [
      "val Loss: 0.1183 Acc: 0.9683 F1: 0.9560\n",
      "----------------------------------------\n",
      "Epoch 28/40\n"
     ]
    },
    {
     "name": "stderr",
     "output_type": "stream",
     "text": [
      "100%|██████████| 333/333 [01:28<00:00,  3.75it/s]\n",
      "100%|██████████| 333/333 [01:28<00:00,  3.75it/s]\n"
     ]
    },
    {
     "name": "stdout",
     "output_type": "stream",
     "text": [
      "train Loss: 0.1537 Acc: 0.9412 F1: 0.9334\n"
     ]
    },
    {
     "name": "stderr",
     "output_type": "stream",
     "text": [
      "100%|██████████| 42/42 [00:07<00:00,  5.52it/s]\n",
      "100%|██████████| 42/42 [00:07<00:00,  5.52it/s]\n"
     ]
    },
    {
     "name": "stdout",
     "output_type": "stream",
     "text": [
      "val Loss: 0.0976 Acc: 0.9661 F1: 0.9400\n",
      "----------------------------------------\n",
      "Epoch 29/40\n"
     ]
    },
    {
     "name": "stderr",
     "output_type": "stream",
     "text": [
      "100%|██████████| 333/333 [01:27<00:00,  3.79it/s]\n",
      "100%|██████████| 333/333 [01:27<00:00,  3.79it/s]\n"
     ]
    },
    {
     "name": "stdout",
     "output_type": "stream",
     "text": [
      "train Loss: 0.1561 Acc: 0.9374 F1: 0.9319\n"
     ]
    },
    {
     "name": "stderr",
     "output_type": "stream",
     "text": [
      "100%|██████████| 42/42 [00:07<00:00,  5.37it/s]\n",
      "100%|██████████| 42/42 [00:07<00:00,  5.37it/s]\n"
     ]
    },
    {
     "name": "stdout",
     "output_type": "stream",
     "text": [
      "val Loss: 0.0911 Acc: 0.9714 F1: 0.9558\n",
      "----------------------------------------\n",
      "Epoch 30/40\n"
     ]
    },
    {
     "name": "stderr",
     "output_type": "stream",
     "text": [
      "100%|██████████| 333/333 [01:28<00:00,  3.77it/s]\n",
      "100%|██████████| 333/333 [01:28<00:00,  3.77it/s]\n"
     ]
    },
    {
     "name": "stdout",
     "output_type": "stream",
     "text": [
      "train Loss: 0.1466 Acc: 0.9423 F1: 0.9347\n"
     ]
    },
    {
     "name": "stderr",
     "output_type": "stream",
     "text": [
      "100%|██████████| 42/42 [00:07<00:00,  5.38it/s]\n",
      "100%|██████████| 42/42 [00:07<00:00,  5.38it/s]\n"
     ]
    },
    {
     "name": "stdout",
     "output_type": "stream",
     "text": [
      "val Loss: 0.0801 Acc: 0.9781 F1: 0.9655\n",
      "----------------------------------------\n",
      "Epoch 31/40\n"
     ]
    },
    {
     "name": "stderr",
     "output_type": "stream",
     "text": [
      "100%|██████████| 333/333 [01:27<00:00,  3.78it/s]\n",
      "100%|██████████| 333/333 [01:27<00:00,  3.78it/s]\n"
     ]
    },
    {
     "name": "stdout",
     "output_type": "stream",
     "text": [
      "train Loss: 0.1292 Acc: 0.9473 F1: 0.9450\n"
     ]
    },
    {
     "name": "stderr",
     "output_type": "stream",
     "text": [
      "100%|██████████| 42/42 [00:07<00:00,  5.34it/s]\n",
      "100%|██████████| 42/42 [00:07<00:00,  5.34it/s]\n"
     ]
    },
    {
     "name": "stdout",
     "output_type": "stream",
     "text": [
      "val Loss: 0.0935 Acc: 0.9714 F1: 0.9584\n",
      "----------------------------------------\n",
      "Epoch 32/40\n"
     ]
    },
    {
     "name": "stderr",
     "output_type": "stream",
     "text": [
      "100%|██████████| 333/333 [01:27<00:00,  3.80it/s]\n",
      "100%|██████████| 333/333 [01:27<00:00,  3.80it/s]\n"
     ]
    },
    {
     "name": "stdout",
     "output_type": "stream",
     "text": [
      "train Loss: 0.1232 Acc: 0.9458 F1: 0.9443\n"
     ]
    },
    {
     "name": "stderr",
     "output_type": "stream",
     "text": [
      "100%|██████████| 42/42 [00:08<00:00,  5.24it/s]\n",
      "\n"
     ]
    },
    {
     "name": "stdout",
     "output_type": "stream",
     "text": [
      "val Loss: 0.0964 Acc: 0.9781 F1: 0.9689\n",
      "----------------------------------------\n",
      "Epoch 33/40\n"
     ]
    },
    {
     "name": "stderr",
     "output_type": "stream",
     "text": [
      "100%|██████████| 333/333 [01:27<00:00,  3.79it/s]\n",
      "100%|██████████| 333/333 [01:27<00:00,  3.79it/s]\n"
     ]
    },
    {
     "name": "stdout",
     "output_type": "stream",
     "text": [
      "train Loss: 0.1280 Acc: 0.9482 F1: 0.9484\n"
     ]
    },
    {
     "name": "stderr",
     "output_type": "stream",
     "text": [
      "100%|██████████| 42/42 [00:07<00:00,  5.37it/s]\n",
      "\n"
     ]
    },
    {
     "name": "stdout",
     "output_type": "stream",
     "text": [
      "val Loss: 0.0840 Acc: 0.9797 F1: 0.9695\n",
      "----------------------------------------\n",
      "Epoch 34/40\n"
     ]
    },
    {
     "name": "stderr",
     "output_type": "stream",
     "text": [
      "100%|██████████| 333/333 [01:29<00:00,  3.73it/s]\n",
      "100%|██████████| 333/333 [01:29<00:00,  3.73it/s]\n"
     ]
    },
    {
     "name": "stdout",
     "output_type": "stream",
     "text": [
      "train Loss: 0.1257 Acc: 0.9494 F1: 0.9450\n"
     ]
    },
    {
     "name": "stderr",
     "output_type": "stream",
     "text": [
      "100%|██████████| 42/42 [00:07<00:00,  5.58it/s]\n",
      "100%|██████████| 42/42 [00:07<00:00,  5.58it/s]\n"
     ]
    },
    {
     "name": "stdout",
     "output_type": "stream",
     "text": [
      "val Loss: 0.0889 Acc: 0.9729 F1: 0.9535\n",
      "----------------------------------------\n",
      "Epoch 35/40\n"
     ]
    },
    {
     "name": "stderr",
     "output_type": "stream",
     "text": [
      "100%|██████████| 333/333 [01:27<00:00,  3.81it/s]\n",
      "100%|██████████| 333/333 [01:27<00:00,  3.81it/s]\n"
     ]
    },
    {
     "name": "stdout",
     "output_type": "stream",
     "text": [
      "train Loss: 0.1288 Acc: 0.9482 F1: 0.9466\n"
     ]
    },
    {
     "name": "stderr",
     "output_type": "stream",
     "text": [
      "100%|██████████| 42/42 [00:07<00:00,  5.51it/s]\n",
      "100%|██████████| 42/42 [00:07<00:00,  5.51it/s]\n"
     ]
    },
    {
     "name": "stdout",
     "output_type": "stream",
     "text": [
      "val Loss: 0.0845 Acc: 0.9774 F1: 0.9612\n",
      "----------------------------------------\n",
      "Epoch 36/40\n"
     ]
    },
    {
     "name": "stderr",
     "output_type": "stream",
     "text": [
      "100%|██████████| 333/333 [01:32<00:00,  3.60it/s]\n",
      "100%|██████████| 333/333 [01:32<00:00,  3.60it/s]\n"
     ]
    },
    {
     "name": "stdout",
     "output_type": "stream",
     "text": [
      "train Loss: 0.1359 Acc: 0.9456 F1: 0.9418\n"
     ]
    },
    {
     "name": "stderr",
     "output_type": "stream",
     "text": [
      "100%|██████████| 42/42 [00:08<00:00,  4.85it/s]\n",
      "100%|██████████| 42/42 [00:08<00:00,  4.85it/s]\n"
     ]
    },
    {
     "name": "stdout",
     "output_type": "stream",
     "text": [
      "val Loss: 0.0832 Acc: 0.9766 F1: 0.9623\n",
      "----------------------------------------\n",
      "Epoch 37/40\n"
     ]
    },
    {
     "name": "stderr",
     "output_type": "stream",
     "text": [
      "100%|██████████| 333/333 [01:32<00:00,  3.59it/s]\n",
      "100%|██████████| 333/333 [01:32<00:00,  3.59it/s]\n"
     ]
    },
    {
     "name": "stdout",
     "output_type": "stream",
     "text": [
      "train Loss: 0.1281 Acc: 0.9466 F1: 0.9416\n"
     ]
    },
    {
     "name": "stderr",
     "output_type": "stream",
     "text": [
      "100%|██████████| 42/42 [00:08<00:00,  4.80it/s]\n",
      "100%|██████████| 42/42 [00:08<00:00,  4.80it/s]\n"
     ]
    },
    {
     "name": "stdout",
     "output_type": "stream",
     "text": [
      "val Loss: 0.0782 Acc: 0.9744 F1: 0.9592\n",
      "----------------------------------------\n",
      "Epoch 38/40\n"
     ]
    },
    {
     "name": "stderr",
     "output_type": "stream",
     "text": [
      "100%|██████████| 333/333 [01:39<00:00,  3.33it/s]\n",
      "100%|██████████| 333/333 [01:39<00:00,  3.33it/s]\n"
     ]
    },
    {
     "name": "stdout",
     "output_type": "stream",
     "text": [
      "train Loss: 0.1276 Acc: 0.9523 F1: 0.9485\n"
     ]
    },
    {
     "name": "stderr",
     "output_type": "stream",
     "text": [
      "100%|██████████| 42/42 [00:08<00:00,  5.14it/s]\n",
      "100%|██████████| 42/42 [00:08<00:00,  5.14it/s]\n"
     ]
    },
    {
     "name": "stdout",
     "output_type": "stream",
     "text": [
      "val Loss: 0.1033 Acc: 0.9789 F1: 0.9613\n",
      "----------------------------------------\n",
      "Epoch 39/40\n"
     ]
    },
    {
     "name": "stderr",
     "output_type": "stream",
     "text": [
      "100%|██████████| 333/333 [01:33<00:00,  3.56it/s]\n",
      "100%|██████████| 333/333 [01:33<00:00,  3.56it/s]\n"
     ]
    },
    {
     "name": "stdout",
     "output_type": "stream",
     "text": [
      "train Loss: 0.1211 Acc: 0.9529 F1: 0.9508\n"
     ]
    },
    {
     "name": "stderr",
     "output_type": "stream",
     "text": [
      "100%|██████████| 42/42 [00:08<00:00,  5.21it/s]\n",
      "100%|██████████| 42/42 [00:08<00:00,  5.21it/s]\n"
     ]
    },
    {
     "name": "stdout",
     "output_type": "stream",
     "text": [
      "val Loss: 0.0897 Acc: 0.9812 F1: 0.9690\n",
      "----------------------------------------\n",
      "Epoch 40/40\n"
     ]
    },
    {
     "name": "stderr",
     "output_type": "stream",
     "text": [
      "100%|██████████| 333/333 [01:41<00:00,  3.28it/s]\n",
      "100%|██████████| 333/333 [01:41<00:00,  3.28it/s]\n"
     ]
    },
    {
     "name": "stdout",
     "output_type": "stream",
     "text": [
      "train Loss: 0.1240 Acc: 0.9509 F1: 0.9446\n"
     ]
    },
    {
     "name": "stderr",
     "output_type": "stream",
     "text": [
      "100%|██████████| 42/42 [00:08<00:00,  5.08it/s]"
     ]
    },
    {
     "name": "stdout",
     "output_type": "stream",
     "text": [
      "val Loss: 0.1177 Acc: 0.9721 F1: 0.9545\n",
      "----------------------------------------\n",
      "Training complete in 67m 24s\n",
      "Best val F1: 0.9695\n"
     ]
    },
    {
     "name": "stderr",
     "output_type": "stream",
     "text": [
      "\n"
     ]
    }
   ],
   "source": [
    "# Train\n",
    "model, history = train_model(model, criterion, optimizer, scheduler, num_epochs=num_epochs, model_name=\"EfficientNet-B0\")\n"
   ]
  },
  {
   "cell_type": "code",
   "execution_count": 15,
   "id": "559814e5",
   "metadata": {},
   "outputs": [],
   "source": [
    "def plot_history(history, model_name=\"model\"):\n",
    "    epochs = range(1, len(history[\"train_loss\"]) + 1)\n",
    "    plt.figure(figsize=(12,4))\n",
    "    plt.subplot(1,2,1)\n",
    "    plt.plot(epochs, history[\"train_loss\"], label=\"train_loss\")\n",
    "    plt.plot(epochs, history[\"val_loss\"], label=\"val_loss\")\n",
    "    plt.xlabel(\"Epoch\"); plt.ylabel(\"Loss\"); plt.legend(); plt.title(f\"{model_name} Loss\")\n",
    "\n",
    "    plt.subplot(1,2,2)\n",
    "    plt.plot(epochs, history[\"train_acc\"], label=\"train_acc\")\n",
    "    plt.plot(epochs, history[\"val_acc\"], label=\"val_acc\")\n",
    "    plt.xlabel(\"Epoch\"); plt.ylabel(\"Accuracy\"); plt.legend(); plt.title(f\"{model_name} Accuracy\")\n",
    "    plt.show()\n"
   ]
  },
  {
   "cell_type": "code",
   "execution_count": 16,
   "id": "cf7b5ab9",
   "metadata": {},
   "outputs": [
    {
     "data": {
      "image/png": "[encoded data removed]",
      "text/plain": [
       "<Figure size 1200x400 with 2 Axes>"
      ]
     },
     "metadata": {},
     "output_type": "display_data"
    }
   ],
   "source": [
    "plot_history(history, model_name=\"EfficientNet-B0\")\n"
   ]
  },
  {
   "cell_type": "code",
   "execution_count": 17,
   "id": "58eae84f",
   "metadata": {},
   "outputs": [],
   "source": [
    "# Load best model checkpoint (if needed) and run final evaluation on validation set\n",
    "def evaluate_model(model):\n",
    "    model.eval()\n",
    "    y_true = []\n",
    "    y_pred = []\n",
    "    with torch.no_grad():\n",
    "        for inputs, labels in val_loader:\n",
    "            inputs = inputs.to(device)\n",
    "            labels = labels.to(device)\n",
    "            outputs = model(inputs)\n",
    "            _, preds = torch.max(outputs, 1)\n",
    "            y_true.extend(labels.cpu().numpy().tolist())\n",
    "            y_pred.extend(preds.cpu().numpy().tolist())\n",
    "    print(classification_report(y_true, y_pred, target_names=class_names))\n",
    "    cm = confusion_matrix(y_true, y_pred)\n",
    "    print(\"Confusion matrix:\\n\", cm)\n"
   ]
  },
  {
   "cell_type": "code",
   "execution_count": 18,
   "id": "0d104d1a",
   "metadata": {},
   "outputs": [
    {
     "name": "stdout",
     "output_type": "stream",
     "text": [
      "                         precision    recall  f1-score   support\n",
      "\n",
      "      Actinic keratoses       0.91      0.90      0.90        86\n",
      "             Chickenpox       0.96      1.00      0.98       112\n",
      "                 Cowpox       0.99      1.00      0.99        99\n",
      "         Dermatofibroma       1.00      0.96      0.98        23\n",
      "                   HFMD       1.00      1.00      1.00       241\n",
      "                Healthy       0.98      0.99      0.99       171\n",
      "                Measles       1.00      0.99      0.99        82\n",
      "              Monkeypox       1.00      0.98      0.99       426\n",
      "Squamous cell carcinoma       0.86      0.89      0.87        62\n",
      "       Vascular lesions       1.00      1.00      1.00        25\n",
      "\n",
      "               accuracy                           0.98      1327\n",
      "              macro avg       0.97      0.97      0.97      1327\n",
      "           weighted avg       0.98      0.98      0.98      1327\n",
      "\n",
      "Confusion matrix:\n",
      " [[ 77   0   0   0   0   0   0   0   9   0]\n",
      " [  0 112   0   0   0   0   0   0   0   0]\n",
      " [  0   0  99   0   0   0   0   0   0   0]\n",
      " [  1   0   0  22   0   0   0   0   0   0]\n",
      " [  0   0   0   0 241   0   0   0   0   0]\n",
      " [  0   0   0   0   1 170   0   0   0   0]\n",
      " [  0   0   0   0   0   1  81   0   0   0]\n",
      " [  0   5   1   0   0   2   0 418   0   0]\n",
      " [  7   0   0   0   0   0   0   0  55   0]\n",
      " [  0   0   0   0   0   0   0   0   0  25]]\n"
     ]
    }
   ],
   "source": [
    "evaluate_model(model)"
   ]
  },
  {
   "cell_type": "code",
   "execution_count": 19,
   "id": "a96c42e7",
   "metadata": {},
   "outputs": [
    {
     "name": "stdout",
     "output_type": "stream",
     "text": [
      "Requirement already satisfied: pandas in c:\\users\\nethm\\miniconda3\\lib\\site-packages (2.3.3)\n",
      "Requirement already satisfied: numpy>=1.26.0 in c:\\users\\nethm\\miniconda3\\lib\\site-packages (from pandas) (2.2.6)\n",
      "Requirement already satisfied: python-dateutil>=2.8.2 in c:\\users\\nethm\\miniconda3\\lib\\site-packages (from pandas) (2.9.0.post0)\n",
      "Requirement already satisfied: pytz>=2020.1 in c:\\users\\nethm\\miniconda3\\lib\\site-packages (from pandas) (2025.2)\n",
      "Requirement already satisfied: tzdata>=2022.7 in c:\\users\\nethm\\miniconda3\\lib\\site-packages (from pandas) (2025.2)\n",
      "Requirement already satisfied: six>=1.5 in c:\\users\\nethm\\miniconda3\\lib\\site-packages (from python-dateutil>=2.8.2->pandas) (1.17.0)\n",
      "Note: you may need to restart the kernel to use updated packages.\n",
      "Test classes order: ['Actinic keratoses', 'Chickenpox', 'Cowpox', 'Dermatofibroma', 'HFMD', 'Healthy', 'Measles', 'Monkeypox', 'Squamous cell carcinoma', 'Vascular lesions']\n",
      "Test size: 1337\n",
      "Loaded checkpoint: EfficientNet-B0_best.pth\n",
      "                         precision    recall  f1-score   support\n",
      "\n",
      "      Actinic keratoses       0.91      0.90      0.90        88\n",
      "             Chickenpox       0.96      1.00      0.98       113\n",
      "                 Cowpox       1.00      0.99      0.99        99\n",
      "         Dermatofibroma       0.96      0.88      0.92        25\n",
      "                   HFMD       0.99      1.00      1.00       242\n",
      "                Healthy       0.99      0.99      0.99       171\n",
      "                Measles       0.98      1.00      0.99        83\n",
      "              Monkeypox       1.00      0.98      0.99       426\n",
      "Squamous cell carcinoma       0.88      0.92      0.90        64\n",
      "       Vascular lesions       1.00      1.00      1.00        26\n",
      "\n",
      "               accuracy                           0.98      1337\n",
      "              macro avg       0.97      0.97      0.97      1337\n",
      "           weighted avg       0.98      0.98      0.98      1337\n",
      "\n",
      "Confusion matrix:\n",
      " [[ 79   0   0   1   0   0   0   0   8   0]\n",
      " [  0 113   0   0   0   0   0   0   0   0]\n",
      " [  0   0  98   0   0   1   0   0   0   0]\n",
      " [  3   0   0  22   0   0   0   0   0   0]\n",
      " [  0   0   0   0 242   0   0   0   0   0]\n",
      " [  0   0   0   0   1 169   0   1   0   0]\n",
      " [  0   0   0   0   0   0  83   0   0   0]\n",
      " [  0   5   0   0   1   0   2 418   0   0]\n",
      " [  5   0   0   0   0   0   0   0  59   0]\n",
      " [  0   0   0   0   0   0   0   0   0  26]]\n",
      "                         precision    recall  f1-score   support\n",
      "\n",
      "      Actinic keratoses       0.91      0.90      0.90        88\n",
      "             Chickenpox       0.96      1.00      0.98       113\n",
      "                 Cowpox       1.00      0.99      0.99        99\n",
      "         Dermatofibroma       0.96      0.88      0.92        25\n",
      "                   HFMD       0.99      1.00      1.00       242\n",
      "                Healthy       0.99      0.99      0.99       171\n",
      "                Measles       0.98      1.00      0.99        83\n",
      "              Monkeypox       1.00      0.98      0.99       426\n",
      "Squamous cell carcinoma       0.88      0.92      0.90        64\n",
      "       Vascular lesions       1.00      1.00      1.00        26\n",
      "\n",
      "               accuracy                           0.98      1337\n",
      "              macro avg       0.97      0.97      0.97      1337\n",
      "           weighted avg       0.98      0.98      0.98      1337\n",
      "\n",
      "Confusion matrix:\n",
      " [[ 79   0   0   1   0   0   0   0   8   0]\n",
      " [  0 113   0   0   0   0   0   0   0   0]\n",
      " [  0   0  98   0   0   1   0   0   0   0]\n",
      " [  3   0   0  22   0   0   0   0   0   0]\n",
      " [  0   0   0   0 242   0   0   0   0   0]\n",
      " [  0   0   0   0   1 169   0   1   0   0]\n",
      " [  0   0   0   0   0   0  83   0   0   0]\n",
      " [  0   5   0   0   1   0   2 418   0   0]\n",
      " [  5   0   0   0   0   0   0   0  59   0]\n",
      " [  0   0   0   0   0   0   0   0   0  26]]\n"
     ]
    },
    {
     "data": {
      "image/png": "[encoded data removed]",
      "text/plain": [
       "<Figure size 1000x800 with 2 Axes>"
      ]
     },
     "metadata": {},
     "output_type": "display_data"
    },
    {
     "name": "stdout",
     "output_type": "stream",
     "text": [
      "Saved test_predictions.csv\n"
     ]
    }
   ],
   "source": [
    "\n",
    "%pip install pandas\n",
    "import torch\n",
    "from torchvision import datasets\n",
    "from torch.utils.data import DataLoader\n",
    "from sklearn.metrics import classification_report, confusion_matrix\n",
    "import numpy as np\n",
    "import matplotlib.pyplot as plt\n",
    "import pandas as pd\n",
    "\n",
    "# path to test data \n",
    "test_dir = r\"D:\\archive\\test\"   \n",
    "\n",
    "# use same transforms as val_transforms to keep inputs consistent\n",
    "test_dataset = datasets.ImageFolder(test_dir, transform=val_transforms)\n",
    "test_loader = DataLoader(test_dataset, batch_size=32, shuffle=False, num_workers=4)\n",
    "\n",
    "print(\"Test classes order:\", test_dataset.classes)\n",
    "print(\"Test size:\", len(test_dataset))\n",
    "\n",
    "# load best checkpoint (if you saved it during training)\n",
    "ckpt_path = \"EfficientNet-B0_best.pth\"   # adjust if different\n",
    "try:\n",
    "    state = torch.load(ckpt_path, map_location=device)\n",
    "    model.load_state_dict(state)\n",
    "    print(\"Loaded checkpoint:\", ckpt_path)\n",
    "except Exception as e:\n",
    "    print(\"Checkpoint load failed (using current model):\", e)\n",
    "\n",
    "model.to(device)\n",
    "model.eval()\n",
    "\n",
    "y_true = []\n",
    "y_pred = []\n",
    "probs = []   # optional: predicted probabilities\n",
    "\n",
    "with torch.no_grad():\n",
    "    for inputs, labels in test_loader:\n",
    "        inputs = inputs.to(device)\n",
    "        labels = labels.to(device)\n",
    "        outputs = model(inputs)\n",
    "        ps = torch.softmax(outputs, dim=1)\n",
    "        _, preds = torch.max(outputs, 1)\n",
    "\n",
    "        y_true.extend(labels.cpu().numpy().tolist())\n",
    "        y_pred.extend(preds.cpu().numpy().tolist())\n",
    "        probs.extend(ps.cpu().numpy().tolist())\n",
    "\n",
    "# metrics\n",
    "print(classification_report(y_true, y_pred, target_names=test_dataset.classes))\n",
    "cm = confusion_matrix(y_true, y_pred)\n",
    "print(\"Confusion matrix:\\n\", cm)\n",
    "\n",
    "# optional: plot confusion matrix\n",
    "plt.figure(figsize=(10,8))\n",
    "plt.imshow(cm, interpolation='nearest', cmap=plt.cm.Blues)\n",
    "plt.title(\"Confusion matrix\")\n",
    "plt.colorbar()\n",
    "tick_marks = np.arange(len(test_dataset.classes))\n",
    "plt.xticks(tick_marks, test_dataset.classes, rotation=90)\n",
    "plt.yticks(tick_marks, test_dataset.classes)\n",
    "plt.ylabel('True label')\n",
    "plt.xlabel('Predicted label')\n",
    "plt.tight_layout()\n",
    "plt.show()\n",
    "\n",
    "# optional: save per-image predictions (filenames, true, pred, prob)\n",
    "filenames = [p[0] for p in test_dataset.samples]  # full relative paths\n",
    "df = pd.DataFrame({\n",
    "    \"file\": filenames,\n",
    "    \"true\": [test_dataset.classes[i] for i in y_true],\n",
    "    \"pred\": [test_dataset.classes[i] for i in y_pred],\n",
    "    \"prob_top\": [round(float(np.max(p)),4) for p in probs]\n",
    "})\n",
    "df.to_csv(\"test_predictions.csv\", index=False)\n",
    "print(\"Saved test_predictions.csv\")"
   ]
  },
  {
   "cell_type": "code",
   "execution_count": 20,
   "id": "64a8da26",
   "metadata": {},
   "outputs": [
    {
     "data": {
      "image/png": "[encoded data removed]",
      "text/plain": [
       "<Figure size 2500x1000 with 3 Axes>"
      ]
     },
     "metadata": {},
     "output_type": "display_data"
    },
    {
     "data": {
      "image/png": "[encoded data removed]",
      "text/plain": [
       "<Figure size 2000x1000 with 1 Axes>"
      ]
     },
     "metadata": {},
     "output_type": "display_data"
    }
   ],
   "source": [
    "import numpy as np\n",
    "from sklearn.metrics import confusion_matrix, ConfusionMatrixDisplay\n",
    "\n",
    "import matplotlib.pyplot as plt\n",
    "\n",
    "# Assuming class_names is available from earlier cells\n",
    "\n",
    "# 1. Confusion Matrix and Histogram side by side (2 per row)\n",
    "fig, axes = plt.subplots(1, 2, figsize=(25, 10))\n",
    "\n",
    "# Enhanced Confusion Matrix (left)\n",
    "cm = confusion_matrix(y_true, y_pred)\n",
    "cm_normalized = cm.astype('float') / cm.sum(axis=1)[:, np.newaxis]\n",
    "disp = ConfusionMatrixDisplay(confusion_matrix=cm_normalized, display_labels=class_names)\n",
    "disp.plot(cmap=plt.cm.Blues, ax=axes[0], xticks_rotation=45)\n",
    "axes[0].set_title('Normalized Confusion Matrix')\n",
    "\n",
    "# Histogram of Prediction Confidences (right)\n",
    "top_probs = [np.max(p) for p in probs]\n",
    "axes[1].hist(top_probs, bins=20, alpha=0.7, color='blue', edgecolor='black')\n",
    "axes[1].set_xlabel('Prediction Confidence')\n",
    "axes[1].set_ylabel('Frequency')\n",
    "axes[1].set_title('Distribution of Prediction Confidences')\n",
    "axes[1].grid(True)\n",
    "\n",
    "plt.tight_layout()\n",
    "plt.show()\n",
    "\n",
    "# 2. Class-wise Accuracy as separate plot\n",
    "plt.figure(figsize=(20, 10))\n",
    "class_accuracies = []\n",
    "for i in range(len(class_names)):\n",
    "    mask = np.array(y_true) == i\n",
    "    if np.sum(mask) > 0:\n",
    "        acc = np.mean(np.array(y_pred)[mask] == i)\n",
    "    else:\n",
    "        acc = 0\n",
    "    class_accuracies.append(acc)\n",
    "\n",
    "plt.bar(range(len(class_names)), class_accuracies, color='green', alpha=0.7)\n",
    "plt.xlabel('Class')\n",
    "plt.ylabel('Accuracy')\n",
    "plt.title('Class-wise Accuracy')\n",
    "plt.xticks(range(len(class_names)), class_names, rotation=45)\n",
    "plt.ylim(0, 1)\n",
    "plt.grid(axis='y')\n",
    "\n",
    "# Add accuracy values on top of bars\n",
    "for i, v in enumerate(class_accuracies):\n",
    "    plt.text(i, v + 0.01, f'{v:.2f}', ha='center', va='bottom')\n",
    "\n",
    "plt.tight_layout()\n",
    "plt.show()"
   ]
  }
 ],
 "metadata": {
  "kernelspec": {
   "display_name": "base",
   "language": "python",
   "name": "python3"
  },
  "language_info": {
   "codemirror_mode": {
    "name": "ipython",
    "version": 3
   },
   "file_extension": ".py",
   "mimetype": "text/x-python",
   "name": "python",
   "nbconvert_exporter": "python",
   "pygments_lexer": "ipython3",
   "version": "3.13.5"
  }
 },
 "nbformat": 4,
 "nbformat_minor": 5
}
