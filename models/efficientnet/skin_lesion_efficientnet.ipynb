{
 "cells": [
  {
   "cell_type": "markdown",
   "id": "1bef0490",
   "metadata": {},
   "source": [
    "# Skin Lesion Classification — Transfer Learning\n",
    "**Dataset:** merged HAM10000 + MSLDv2.0 (14 classes).\n",
    "\n",
    "This notebook trains a single transfer-learning model on the dataset using PyTorch. \n",
    "**Assumptions:** dataset arranged like:\n",
    "```\n",
    "data/\n",
    "  train/\n",
    "    class_1/\n",
    "      img1.jpg\n",
    "      img2.jpg\n",
    "    class_2/\n",
    "  val/\n",
    "    class_1/\n",
    "    ...\n",
    "```\n",
    "\n",
    "**Model:** EfficientNet-B0"
   ]
  },
  {
   "cell_type": "code",
   "execution_count": 9,
   "id": "5a6315b8",
   "metadata": {},
   "outputs": [
    {
     "name": "stdout",
     "output_type": "stream",
     "text": [
      "Requirement already satisfied: torch in c:\\users\\nethm\\miniconda3\\lib\\site-packages (2.8.0)\n",
      "Requirement already satisfied: torchvision in c:\\users\\nethm\\miniconda3\\lib\\site-packages (0.23.0)\n",
      "Requirement already satisfied: matplotlib in c:\\users\\nethm\\miniconda3\\lib\\site-packages (3.10.7)\n",
      "Requirement already satisfied: scikit-learn in c:\\users\\nethm\\miniconda3\\lib\\site-packages (1.7.2)\n",
      "Requirement already satisfied: tqdm in c:\\users\\nethm\\miniconda3\\lib\\site-packages (4.67.1)\n",
      "Requirement already satisfied: timm in c:\\users\\nethm\\miniconda3\\lib\\site-packages (1.0.20)\n",
      "Requirement already satisfied: filelock in c:\\users\\nethm\\miniconda3\\lib\\site-packages (from torch) (3.20.0)\n",
      "Requirement already satisfied: typing-extensions>=4.10.0 in c:\\users\\nethm\\miniconda3\\lib\\site-packages (from torch) (4.12.2)\n",
      "Requirement already satisfied: sympy>=1.13.3 in c:\\users\\nethm\\miniconda3\\lib\\site-packages (from torch) (1.14.0)\n",
      "Requirement already satisfied: networkx in c:\\users\\nethm\\miniconda3\\lib\\site-packages (from torch) (3.5)\n",
      "Requirement already satisfied: jinja2 in c:\\users\\nethm\\miniconda3\\lib\\site-packages (from torch) (3.1.6)\n",
      "Requirement already satisfied: fsspec in c:\\users\\nethm\\miniconda3\\lib\\site-packages (from torch) (2025.9.0)\n",
      "Requirement already satisfied: setuptools in c:\\users\\nethm\\miniconda3\\lib\\site-packages (from torch) (78.1.1)\n",
      "Requirement already satisfied: numpy in c:\\users\\nethm\\miniconda3\\lib\\site-packages (from torchvision) (2.2.6)\n",
      "Requirement already satisfied: pillow!=8.3.*,>=5.3.0 in c:\\users\\nethm\\miniconda3\\lib\\site-packages (from torchvision) (11.3.0)\n",
      "Requirement already satisfied: contourpy>=1.0.1 in c:\\users\\nethm\\miniconda3\\lib\\site-packages (from matplotlib) (1.3.3)\n",
      "Requirement already satisfied: cycler>=0.10 in c:\\users\\nethm\\miniconda3\\lib\\site-packages (from matplotlib) (0.12.1)\n",
      "Requirement already satisfied: fonttools>=4.22.0 in c:\\users\\nethm\\miniconda3\\lib\\site-packages (from matplotlib) (4.60.1)\n",
      "Requirement already satisfied: kiwisolver>=1.3.1 in c:\\users\\nethm\\miniconda3\\lib\\site-packages (from matplotlib) (1.4.9)\n",
      "Requirement already satisfied: packaging>=20.0 in c:\\users\\nethm\\miniconda3\\lib\\site-packages (from matplotlib) (24.2)\n",
      "Requirement already satisfied: pyparsing>=3 in c:\\users\\nethm\\miniconda3\\lib\\site-packages (from matplotlib) (3.2.5)\n",
      "Requirement already satisfied: python-dateutil>=2.7 in c:\\users\\nethm\\miniconda3\\lib\\site-packages (from matplotlib) (2.9.0.post0)\n",
      "Requirement already satisfied: scipy>=1.8.0 in c:\\users\\nethm\\miniconda3\\lib\\site-packages (from scikit-learn) (1.16.2)\n",
      "Requirement already satisfied: joblib>=1.2.0 in c:\\users\\nethm\\miniconda3\\lib\\site-packages (from scikit-learn) (1.5.2)\n",
      "Requirement already satisfied: threadpoolctl>=3.1.0 in c:\\users\\nethm\\miniconda3\\lib\\site-packages (from scikit-learn) (3.6.0)\n",
      "Requirement already satisfied: colorama in c:\\users\\nethm\\miniconda3\\lib\\site-packages (from tqdm) (0.4.6)\n",
      "Requirement already satisfied: pyyaml in c:\\users\\nethm\\miniconda3\\lib\\site-packages (from timm) (6.0.3)\n",
      "Requirement already satisfied: huggingface_hub in c:\\users\\nethm\\miniconda3\\lib\\site-packages (from timm) (0.35.3)\n",
      "Requirement already satisfied: safetensors in c:\\users\\nethm\\miniconda3\\lib\\site-packages (from timm) (0.6.2)\n",
      "Requirement already satisfied: six>=1.5 in c:\\users\\nethm\\miniconda3\\lib\\site-packages (from python-dateutil>=2.7->matplotlib) (1.17.0)\n",
      "Requirement already satisfied: mpmath<1.4,>=1.1.0 in c:\\users\\nethm\\miniconda3\\lib\\site-packages (from sympy>=1.13.3->torch) (1.3.0)\n",
      "Requirement already satisfied: requests in c:\\users\\nethm\\miniconda3\\lib\\site-packages (from huggingface_hub->timm) (2.32.4)\n",
      "Requirement already satisfied: MarkupSafe>=2.0 in c:\\users\\nethm\\miniconda3\\lib\\site-packages (from jinja2->torch) (3.0.3)\n",
      "Requirement already satisfied: charset_normalizer<4,>=2 in c:\\users\\nethm\\miniconda3\\lib\\site-packages (from requests->huggingface_hub->timm) (3.3.2)\n",
      "Requirement already satisfied: idna<4,>=2.5 in c:\\users\\nethm\\miniconda3\\lib\\site-packages (from requests->huggingface_hub->timm) (3.7)\n",
      "Requirement already satisfied: urllib3<3,>=1.21.1 in c:\\users\\nethm\\miniconda3\\lib\\site-packages (from requests->huggingface_hub->timm) (2.5.0)\n",
      "Requirement already satisfied: certifi>=2017.4.17 in c:\\users\\nethm\\miniconda3\\lib\\site-packages (from requests->huggingface_hub->timm) (2025.10.5)\n",
      "Note: you may need to restart the kernel to use updated packages.\n",
      "Device: cpu\n"
     ]
    }
   ],
   "source": [
    "# Environment & imports\n",
    "# If running in a fresh environment, you may need to install packages:\n",
    "# !pip install torch torchvision matplotlib scikit-learn tqdm timm -q\n",
    "%pip install torch torchvision matplotlib scikit-learn tqdm timm\n",
    "import os\n",
    "import time\n",
    "import copy\n",
    "from pathlib import Path\n",
    "import numpy as np\n",
    "import matplotlib.pyplot as plt\n",
    "from tqdm import tqdm\n",
    "\n",
    "import torch\n",
    "import torch.nn as nn\n",
    "import torch.optim as optim\n",
    "from torch.utils.data import DataLoader\n",
    "from torchvision import transforms, datasets, models\n",
    "\n",
    "from sklearn.metrics import classification_report, confusion_matrix, f1_score, accuracy_score\n",
    "device = torch.device(\"cuda\" if torch.cuda.is_available() else \"cpu\")\n",
    "print(\"Device:\", device)\n"
   ]
  },
  {
   "cell_type": "code",
   "execution_count": 10,
   "id": "484b910d",
   "metadata": {},
   "outputs": [
    {
     "name": "stdout",
     "output_type": "stream",
     "text": [
      "Classes (14): ['Actinic keratoses', 'Basal cell carcinoma', 'Benign keratosis-like lesions', 'Chickenpox', 'Cowpox', 'Dermatofibroma', 'HFMD', 'Healthy', 'Measles', 'Melanocytic nevi', 'Melanoma', 'Monkeypox', 'Squamous cell carcinoma', 'Vascular lesions']\n",
      "Train size: 29322  Val size: 3660\n"
     ]
    }
   ],
   "source": [
    "# Paths (change these to your dataset locations)\n",
    "train_dir = r\"D:\\archive\\train\"\n",
    "val_dir   = r\"D:\\archive\\val\"\n",
    "\n",
    "# Data transforms and augmentation\n",
    "train_transforms = transforms.Compose([\n",
    "    transforms.RandomResizedCrop(224),\n",
    "    transforms.RandomHorizontalFlip(),\n",
    "    transforms.RandomRotation(20),\n",
    "    transforms.ColorJitter(brightness=0.1, contrast=0.1, saturation=0.1),\n",
    "    transforms.ToTensor(),\n",
    "    transforms.Normalize([0.485, 0.456, 0.406],\n",
    "                         [0.229, 0.224, 0.225])\n",
    "])\n",
    "\n",
    "val_transforms = transforms.Compose([\n",
    "    transforms.Resize(256),\n",
    "    transforms.CenterCrop(224),\n",
    "    transforms.ToTensor(),\n",
    "    transforms.Normalize([0.485, 0.456, 0.406],\n",
    "                         [0.229, 0.224, 0.225])\n",
    "])\n",
    "\n",
    "train_dataset = datasets.ImageFolder(train_dir, transform=train_transforms)\n",
    "val_dataset   = datasets.ImageFolder(val_dir, transform=val_transforms)\n",
    "\n",
    "batch_size = 32\n",
    "num_workers = 4\n",
    "train_loader = DataLoader(train_dataset, batch_size=batch_size, shuffle=True, num_workers=num_workers)\n",
    "val_loader   = DataLoader(val_dataset, batch_size=batch_size, shuffle=False, num_workers=num_workers)\n",
    "\n",
    "class_names = train_dataset.classes\n",
    "num_classes = len(class_names)\n",
    "print(\"Classes ({}):\".format(num_classes), class_names)\n",
    "print(\"Train size:\", len(train_dataset), \" Val size:\", len(val_dataset))\n"
   ]
  },
  {
   "cell_type": "code",
   "execution_count": 11,
   "id": "61712fbe",
   "metadata": {},
   "outputs": [
    {
     "name": "stdout",
     "output_type": "stream",
     "text": [
      "Class counts: [693, 2658, 2099, 900, 792, 191, 1932, 1368, 660, 10300, 3617, 3408, 502, 202]\n",
      "Class weights: tensor([ 42.3117,  11.0316,  13.9695,  32.5800,  37.0227, 153.5183,  15.1770,\n",
      "         21.4342,  44.4273,   2.8468,   8.1067,   8.6039,  58.4104, 145.1584])\n"
     ]
    }
   ],
   "source": [
    "# Compute class weights to address imbalance\n",
    "from collections import Counter\n",
    "counts = Counter([y for _, y in train_dataset.samples])\n",
    "counts = [counts[i] for i in range(len(class_names))]\n",
    "print(\"Class counts:\", counts)\n",
    "class_weights = torch.tensor([sum(counts)/c for c in counts], dtype=torch.float).to(device)\n",
    "print(\"Class weights:\", class_weights)\n",
    "\n",
    "criterion = nn.CrossEntropyLoss(weight=class_weights)\n"
   ]
  },
  {
   "cell_type": "code",
   "execution_count": null,
   "id": "07339a8a",
   "metadata": {},
   "outputs": [],
   "source": [
    "# EfficientNet-B0 (torchvision if available)\n",
    "try:\n",
    "    model = models.efficientnet_b0(pretrained=True)\n",
    "    num_ftrs = model.classifier[1].in_features\n",
    "    model.classifier[1] = nn.Linear(num_ftrs, num_classes)\n",
    "except Exception as e:\n",
    "    # If torchvision doesn't have efficientnet in your environment, use timm (uncomment install if needed)\n",
    "    # !pip install timm -q\n",
    "    import timm\n",
    "    model = timm.create_model('efficientnet_b0', pretrained=True, num_classes=num_classes)\n",
    "model = model.to(device)\n"
   ]
  },
  {
   "cell_type": "code",
   "execution_count": 14,
   "id": "54a2005c",
   "metadata": {},
   "outputs": [],
   "source": [
    "# Optimizer, scheduler\n",
    "optimizer = optim.Adam(model.parameters(), lr=1e-4, weight_decay=1e-5)\n",
    "# Optional scheduler\n",
    "# scheduler = optim.lr_scheduler.StepLR(optimizer, step_size=7, gamma=0.1)\n",
    "scheduler = None\n",
    "num_epochs = 30  # change as needed\n"
   ]
  },
  {
   "cell_type": "code",
   "execution_count": 15,
   "id": "a7ddaa07",
   "metadata": {},
   "outputs": [],
   "source": [
    "def train_model(model, criterion, optimizer, scheduler=None, num_epochs=30, model_name=\"model\"):\n",
    "    since = time.time()\n",
    "    best_model_wts = copy.deepcopy(model.state_dict())\n",
    "    best_f1 = 0.0\n",
    "\n",
    "    history = {\"train_loss\":[],\"val_loss\":[],\"train_acc\":[],\"val_acc\":[], \"val_f1\":[]}\n",
    "\n",
    "    for epoch in range(num_epochs):\n",
    "        print(\"Epoch {}/{}\".format(epoch+1, num_epochs))\n",
    "        # Each epoch has a training and validation phase\n",
    "        for phase in [\"train\",\"val\"]:\n",
    "            if phase == \"train\":\n",
    "                model.train()\n",
    "                loader = train_loader\n",
    "            else:\n",
    "                model.eval()\n",
    "                loader = val_loader\n",
    "\n",
    "            running_loss = 0.0\n",
    "            running_corrects = 0\n",
    "            y_true = []\n",
    "            y_pred = []\n",
    "\n",
    "            for inputs, labels in tqdm(loader):\n",
    "                inputs = inputs.to(device)\n",
    "                labels = labels.to(device)\n",
    "\n",
    "                optimizer.zero_grad()\n",
    "                with torch.set_grad_enabled(phase == \"train\"):\n",
    "                    outputs = model(inputs)\n",
    "                    _, preds = torch.max(outputs, 1)\n",
    "                    loss = criterion(outputs, labels)\n",
    "\n",
    "                    if phase == \"train\":\n",
    "                        loss.backward()\n",
    "                        optimizer.step()\n",
    "\n",
    "                running_loss += loss.item() * inputs.size(0)\n",
    "                running_corrects += torch.sum(preds == labels.data).item()\n",
    "                y_true.extend(labels.cpu().numpy().tolist())\n",
    "                y_pred.extend(preds.cpu().numpy().tolist())\n",
    "\n",
    "            epoch_loss = running_loss / (len(loader.dataset))\n",
    "            epoch_acc = running_corrects / (len(loader.dataset))\n",
    "            epoch_f1 = f1_score(y_true, y_pred, average='macro')\n",
    "            print(\"{} Loss: {:.4f} Acc: {:.4f} F1: {:.4f}\".format(phase, epoch_loss, epoch_acc, epoch_f1))\n",
    "\n",
    "            if phase == \"train\":\n",
    "                history[\"train_loss\"].append(epoch_loss)\n",
    "                history[\"train_acc\"].append(epoch_acc)\n",
    "            else:\n",
    "                history[\"val_loss\"].append(epoch_loss)\n",
    "                history[\"val_acc\"].append(epoch_acc)\n",
    "                history[\"val_f1\"].append(epoch_f1)\n",
    "                # deep copy the model\n",
    "                if epoch_f1 > best_f1:\n",
    "                    best_f1 = epoch_f1\n",
    "                    best_model_wts = copy.deepcopy(model.state_dict())\n",
    "                    torch.save(model.state_dict(), f\"{model_name}_best.pth\")\n",
    "        if scheduler is not None:\n",
    "            scheduler.step()\n",
    "        print(\"-\"*30)\n",
    "\n",
    "    time_elapsed = time.time() - since\n",
    "    print(\"Training complete in {:.0f}m {:.0f}s\".format(time_elapsed // 60, time_elapsed % 60))\n",
    "    print(\"Best val F1: {:.4f}\".format(best_f1))\n",
    "\n",
    "    # load best model weights\n",
    "    model.load_state_dict(best_model_wts)\n",
    "    return model, history\n"
   ]
  },
  {
   "cell_type": "code",
   "execution_count": 16,
   "id": "402a6221",
   "metadata": {},
   "outputs": [
    {
     "name": "stdout",
     "output_type": "stream",
     "text": [
      "Epoch 1/30\n"
     ]
    },
    {
     "name": "stderr",
     "output_type": "stream",
     "text": [
      "100%|██████████| 917/917 [32:45<00:00,  2.14s/it]\n"
     ]
    },
    {
     "name": "stdout",
     "output_type": "stream",
     "text": [
      "train Loss: 1.4036 Acc: 0.5312 F1: 0.4349\n"
     ]
    },
    {
     "name": "stderr",
     "output_type": "stream",
     "text": [
      "100%|██████████| 115/115 [01:10<00:00,  1.63it/s]\n"
     ]
    },
    {
     "name": "stdout",
     "output_type": "stream",
     "text": [
      "val Loss: 0.9817 Acc: 0.6508 F1: 0.5956\n",
      "------------------------------\n",
      "Epoch 2/30\n"
     ]
    },
    {
     "name": "stderr",
     "output_type": "stream",
     "text": [
      "100%|██████████| 917/917 [27:39<00:00,  1.81s/it]\n"
     ]
    },
    {
     "name": "stdout",
     "output_type": "stream",
     "text": [
      "train Loss: 0.9167 Acc: 0.6398 F1: 0.5690\n"
     ]
    },
    {
     "name": "stderr",
     "output_type": "stream",
     "text": [
      "100%|██████████| 115/115 [01:08<00:00,  1.67it/s]\n"
     ]
    },
    {
     "name": "stdout",
     "output_type": "stream",
     "text": [
      "val Loss: 0.8031 Acc: 0.6973 F1: 0.6588\n",
      "------------------------------\n",
      "Epoch 3/30\n"
     ]
    },
    {
     "name": "stderr",
     "output_type": "stream",
     "text": [
      "100%|██████████| 917/917 [27:39<00:00,  1.81s/it]\n"
     ]
    },
    {
     "name": "stdout",
     "output_type": "stream",
     "text": [
      "train Loss: 0.7819 Acc: 0.6792 F1: 0.6187\n"
     ]
    },
    {
     "name": "stderr",
     "output_type": "stream",
     "text": [
      "100%|██████████| 115/115 [01:08<00:00,  1.68it/s]\n"
     ]
    },
    {
     "name": "stdout",
     "output_type": "stream",
     "text": [
      "val Loss: 0.6431 Acc: 0.7617 F1: 0.7157\n",
      "------------------------------\n",
      "Epoch 4/30\n"
     ]
    },
    {
     "name": "stderr",
     "output_type": "stream",
     "text": [
      "100%|██████████| 917/917 [27:29<00:00,  1.80s/it]\n"
     ]
    },
    {
     "name": "stdout",
     "output_type": "stream",
     "text": [
      "train Loss: 0.7001 Acc: 0.7044 F1: 0.6517\n"
     ]
    },
    {
     "name": "stderr",
     "output_type": "stream",
     "text": [
      "100%|██████████| 115/115 [01:08<00:00,  1.69it/s]\n"
     ]
    },
    {
     "name": "stdout",
     "output_type": "stream",
     "text": [
      "val Loss: 0.6095 Acc: 0.7798 F1: 0.7418\n",
      "------------------------------\n",
      "Epoch 5/30\n"
     ]
    },
    {
     "name": "stderr",
     "output_type": "stream",
     "text": [
      "100%|██████████| 917/917 [27:42<00:00,  1.81s/it]\n"
     ]
    },
    {
     "name": "stdout",
     "output_type": "stream",
     "text": [
      "train Loss: 0.6375 Acc: 0.7195 F1: 0.6715\n"
     ]
    },
    {
     "name": "stderr",
     "output_type": "stream",
     "text": [
      "100%|██████████| 115/115 [01:09<00:00,  1.66it/s]\n"
     ]
    },
    {
     "name": "stdout",
     "output_type": "stream",
     "text": [
      "val Loss: 0.6468 Acc: 0.7607 F1: 0.7191\n",
      "------------------------------\n",
      "Epoch 6/30\n"
     ]
    },
    {
     "name": "stderr",
     "output_type": "stream",
     "text": [
      "100%|██████████| 917/917 [27:53<00:00,  1.82s/it]\n"
     ]
    },
    {
     "name": "stdout",
     "output_type": "stream",
     "text": [
      "train Loss: 0.5984 Acc: 0.7351 F1: 0.6919\n"
     ]
    },
    {
     "name": "stderr",
     "output_type": "stream",
     "text": [
      "100%|██████████| 115/115 [01:07<00:00,  1.70it/s]\n"
     ]
    },
    {
     "name": "stdout",
     "output_type": "stream",
     "text": [
      "val Loss: 0.5337 Acc: 0.8057 F1: 0.7839\n",
      "------------------------------\n",
      "Epoch 7/30\n"
     ]
    },
    {
     "name": "stderr",
     "output_type": "stream",
     "text": [
      "100%|██████████| 917/917 [28:07<00:00,  1.84s/it]\n"
     ]
    },
    {
     "name": "stdout",
     "output_type": "stream",
     "text": [
      "train Loss: 0.5584 Acc: 0.7492 F1: 0.7088\n"
     ]
    },
    {
     "name": "stderr",
     "output_type": "stream",
     "text": [
      "100%|██████████| 115/115 [01:10<00:00,  1.64it/s]\n"
     ]
    },
    {
     "name": "stdout",
     "output_type": "stream",
     "text": [
      "val Loss: 0.4989 Acc: 0.8216 F1: 0.7866\n",
      "------------------------------\n",
      "Epoch 8/30\n"
     ]
    },
    {
     "name": "stderr",
     "output_type": "stream",
     "text": [
      "100%|██████████| 917/917 [28:15<00:00,  1.85s/it]\n"
     ]
    },
    {
     "name": "stdout",
     "output_type": "stream",
     "text": [
      "train Loss: 0.5330 Acc: 0.7563 F1: 0.7205\n"
     ]
    },
    {
     "name": "stderr",
     "output_type": "stream",
     "text": [
      "100%|██████████| 115/115 [01:11<00:00,  1.62it/s]\n"
     ]
    },
    {
     "name": "stdout",
     "output_type": "stream",
     "text": [
      "val Loss: 0.4862 Acc: 0.8210 F1: 0.7849\n",
      "------------------------------\n",
      "Epoch 9/30\n"
     ]
    },
    {
     "name": "stderr",
     "output_type": "stream",
     "text": [
      "100%|██████████| 917/917 [28:16<00:00,  1.85s/it]\n"
     ]
    },
    {
     "name": "stdout",
     "output_type": "stream",
     "text": [
      "train Loss: 0.5051 Acc: 0.7686 F1: 0.7331\n"
     ]
    },
    {
     "name": "stderr",
     "output_type": "stream",
     "text": [
      "100%|██████████| 115/115 [01:12<00:00,  1.60it/s]\n"
     ]
    },
    {
     "name": "stdout",
     "output_type": "stream",
     "text": [
      "val Loss: 0.4800 Acc: 0.8279 F1: 0.8017\n",
      "------------------------------\n",
      "Epoch 10/30\n"
     ]
    },
    {
     "name": "stderr",
     "output_type": "stream",
     "text": [
      "100%|██████████| 917/917 [28:11<00:00,  1.84s/it]\n"
     ]
    },
    {
     "name": "stdout",
     "output_type": "stream",
     "text": [
      "train Loss: 0.4699 Acc: 0.7730 F1: 0.7421\n"
     ]
    },
    {
     "name": "stderr",
     "output_type": "stream",
     "text": [
      "100%|██████████| 115/115 [01:09<00:00,  1.66it/s]\n"
     ]
    },
    {
     "name": "stdout",
     "output_type": "stream",
     "text": [
      "val Loss: 0.4631 Acc: 0.8309 F1: 0.8073\n",
      "------------------------------\n",
      "Epoch 11/30\n"
     ]
    },
    {
     "name": "stderr",
     "output_type": "stream",
     "text": [
      "100%|██████████| 917/917 [28:21<00:00,  1.86s/it]\n"
     ]
    },
    {
     "name": "stdout",
     "output_type": "stream",
     "text": [
      "train Loss: 0.4499 Acc: 0.7844 F1: 0.7537\n"
     ]
    },
    {
     "name": "stderr",
     "output_type": "stream",
     "text": [
      "100%|██████████| 115/115 [01:08<00:00,  1.69it/s]\n"
     ]
    },
    {
     "name": "stdout",
     "output_type": "stream",
     "text": [
      "val Loss: 0.4790 Acc: 0.8240 F1: 0.8174\n",
      "------------------------------\n",
      "Epoch 12/30\n"
     ]
    },
    {
     "name": "stderr",
     "output_type": "stream",
     "text": [
      "100%|██████████| 917/917 [27:18<00:00,  1.79s/it]\n"
     ]
    },
    {
     "name": "stdout",
     "output_type": "stream",
     "text": [
      "train Loss: 0.4413 Acc: 0.7842 F1: 0.7538\n"
     ]
    },
    {
     "name": "stderr",
     "output_type": "stream",
     "text": [
      "100%|██████████| 115/115 [01:07<00:00,  1.71it/s]\n"
     ]
    },
    {
     "name": "stdout",
     "output_type": "stream",
     "text": [
      "val Loss: 0.4469 Acc: 0.8339 F1: 0.8423\n",
      "------------------------------\n",
      "Epoch 13/30\n"
     ]
    },
    {
     "name": "stderr",
     "output_type": "stream",
     "text": [
      "100%|██████████| 917/917 [28:10<00:00,  1.84s/it]\n"
     ]
    },
    {
     "name": "stdout",
     "output_type": "stream",
     "text": [
      "train Loss: 0.4274 Acc: 0.7966 F1: 0.7683\n"
     ]
    },
    {
     "name": "stderr",
     "output_type": "stream",
     "text": [
      "100%|██████████| 115/115 [01:09<00:00,  1.66it/s]\n"
     ]
    },
    {
     "name": "stdout",
     "output_type": "stream",
     "text": [
      "val Loss: 0.4423 Acc: 0.8374 F1: 0.8288\n",
      "------------------------------\n",
      "Epoch 14/30\n"
     ]
    },
    {
     "name": "stderr",
     "output_type": "stream",
     "text": [
      "100%|██████████| 917/917 [30:07<00:00,  1.97s/it]\n"
     ]
    },
    {
     "name": "stdout",
     "output_type": "stream",
     "text": [
      "train Loss: 0.3932 Acc: 0.8033 F1: 0.7788\n"
     ]
    },
    {
     "name": "stderr",
     "output_type": "stream",
     "text": [
      "100%|██████████| 115/115 [01:06<00:00,  1.73it/s]\n"
     ]
    },
    {
     "name": "stdout",
     "output_type": "stream",
     "text": [
      "val Loss: 0.4362 Acc: 0.8440 F1: 0.8369\n",
      "------------------------------\n",
      "Epoch 15/30\n"
     ]
    },
    {
     "name": "stderr",
     "output_type": "stream",
     "text": [
      "100%|██████████| 917/917 [26:28<00:00,  1.73s/it]\n"
     ]
    },
    {
     "name": "stdout",
     "output_type": "stream",
     "text": [
      "train Loss: 0.3785 Acc: 0.8105 F1: 0.7932\n"
     ]
    },
    {
     "name": "stderr",
     "output_type": "stream",
     "text": [
      "100%|██████████| 115/115 [01:05<00:00,  1.75it/s]\n"
     ]
    },
    {
     "name": "stdout",
     "output_type": "stream",
     "text": [
      "val Loss: 0.4262 Acc: 0.8454 F1: 0.8561\n",
      "------------------------------\n",
      "Epoch 16/30\n"
     ]
    },
    {
     "name": "stderr",
     "output_type": "stream",
     "text": [
      "100%|██████████| 917/917 [36:44<00:00,  2.40s/it]\n"
     ]
    },
    {
     "name": "stdout",
     "output_type": "stream",
     "text": [
      "train Loss: 0.3834 Acc: 0.8113 F1: 0.7893\n"
     ]
    },
    {
     "name": "stderr",
     "output_type": "stream",
     "text": [
      "100%|██████████| 115/115 [01:56<00:00,  1.02s/it]\n"
     ]
    },
    {
     "name": "stdout",
     "output_type": "stream",
     "text": [
      "val Loss: 0.4511 Acc: 0.8325 F1: 0.8242\n",
      "------------------------------\n",
      "Epoch 17/30\n"
     ]
    },
    {
     "name": "stderr",
     "output_type": "stream",
     "text": [
      "100%|██████████| 917/917 [31:09<00:00,  2.04s/it]\n"
     ]
    },
    {
     "name": "stdout",
     "output_type": "stream",
     "text": [
      "train Loss: 0.3648 Acc: 0.8163 F1: 0.7936\n"
     ]
    },
    {
     "name": "stderr",
     "output_type": "stream",
     "text": [
      "100%|██████████| 115/115 [01:08<00:00,  1.68it/s]\n"
     ]
    },
    {
     "name": "stdout",
     "output_type": "stream",
     "text": [
      "val Loss: 0.4620 Acc: 0.8361 F1: 0.8206\n",
      "------------------------------\n",
      "Epoch 18/30\n"
     ]
    },
    {
     "name": "stderr",
     "output_type": "stream",
     "text": [
      "100%|██████████| 917/917 [27:43<00:00,  1.81s/it]\n"
     ]
    },
    {
     "name": "stdout",
     "output_type": "stream",
     "text": [
      "train Loss: 0.3493 Acc: 0.8187 F1: 0.8007\n"
     ]
    },
    {
     "name": "stderr",
     "output_type": "stream",
     "text": [
      "100%|██████████| 115/115 [01:07<00:00,  1.69it/s]\n"
     ]
    },
    {
     "name": "stdout",
     "output_type": "stream",
     "text": [
      "val Loss: 0.3937 Acc: 0.8609 F1: 0.8559\n",
      "------------------------------\n",
      "Epoch 19/30\n"
     ]
    },
    {
     "name": "stderr",
     "output_type": "stream",
     "text": [
      "100%|██████████| 917/917 [27:19<00:00,  1.79s/it]\n"
     ]
    },
    {
     "name": "stdout",
     "output_type": "stream",
     "text": [
      "train Loss: 0.3474 Acc: 0.8262 F1: 0.8075\n"
     ]
    },
    {
     "name": "stderr",
     "output_type": "stream",
     "text": [
      "100%|██████████| 115/115 [01:08<00:00,  1.67it/s]\n"
     ]
    },
    {
     "name": "stdout",
     "output_type": "stream",
     "text": [
      "val Loss: 0.4227 Acc: 0.8464 F1: 0.8398\n",
      "------------------------------\n",
      "Epoch 20/30\n"
     ]
    },
    {
     "name": "stderr",
     "output_type": "stream",
     "text": [
      "100%|██████████| 917/917 [27:46<00:00,  1.82s/it]\n"
     ]
    },
    {
     "name": "stdout",
     "output_type": "stream",
     "text": [
      "train Loss: 0.3317 Acc: 0.8271 F1: 0.8051\n"
     ]
    },
    {
     "name": "stderr",
     "output_type": "stream",
     "text": [
      "100%|██████████| 115/115 [01:05<00:00,  1.77it/s]\n"
     ]
    },
    {
     "name": "stdout",
     "output_type": "stream",
     "text": [
      "val Loss: 0.3882 Acc: 0.8634 F1: 0.8680\n",
      "------------------------------\n",
      "Epoch 21/30\n"
     ]
    },
    {
     "name": "stderr",
     "output_type": "stream",
     "text": [
      "100%|██████████| 917/917 [27:55<00:00,  1.83s/it]\n"
     ]
    },
    {
     "name": "stdout",
     "output_type": "stream",
     "text": [
      "train Loss: 0.3258 Acc: 0.8363 F1: 0.8212\n"
     ]
    },
    {
     "name": "stderr",
     "output_type": "stream",
     "text": [
      "100%|██████████| 115/115 [01:07<00:00,  1.69it/s]\n"
     ]
    },
    {
     "name": "stdout",
     "output_type": "stream",
     "text": [
      "val Loss: 0.4012 Acc: 0.8555 F1: 0.8584\n",
      "------------------------------\n",
      "Epoch 22/30\n"
     ]
    },
    {
     "name": "stderr",
     "output_type": "stream",
     "text": [
      "100%|██████████| 917/917 [26:54<00:00,  1.76s/it]\n"
     ]
    },
    {
     "name": "stdout",
     "output_type": "stream",
     "text": [
      "train Loss: 0.3198 Acc: 0.8338 F1: 0.8183\n"
     ]
    },
    {
     "name": "stderr",
     "output_type": "stream",
     "text": [
      "100%|██████████| 115/115 [01:19<00:00,  1.45it/s]\n"
     ]
    },
    {
     "name": "stdout",
     "output_type": "stream",
     "text": [
      "val Loss: 0.4523 Acc: 0.8478 F1: 0.8221\n",
      "------------------------------\n",
      "Epoch 23/30\n"
     ]
    },
    {
     "name": "stderr",
     "output_type": "stream",
     "text": [
      "100%|██████████| 917/917 [27:56<00:00,  1.83s/it]\n"
     ]
    },
    {
     "name": "stdout",
     "output_type": "stream",
     "text": [
      "train Loss: 0.3142 Acc: 0.8369 F1: 0.8184\n"
     ]
    },
    {
     "name": "stderr",
     "output_type": "stream",
     "text": [
      "100%|██████████| 115/115 [01:18<00:00,  1.47it/s]\n"
     ]
    },
    {
     "name": "stdout",
     "output_type": "stream",
     "text": [
      "val Loss: 0.3848 Acc: 0.8653 F1: 0.8631\n",
      "------------------------------\n",
      "Epoch 24/30\n"
     ]
    },
    {
     "name": "stderr",
     "output_type": "stream",
     "text": [
      "100%|██████████| 917/917 [27:29<00:00,  1.80s/it]\n"
     ]
    },
    {
     "name": "stdout",
     "output_type": "stream",
     "text": [
      "train Loss: 0.3022 Acc: 0.8395 F1: 0.8205\n"
     ]
    },
    {
     "name": "stderr",
     "output_type": "stream",
     "text": [
      "100%|██████████| 115/115 [01:06<00:00,  1.74it/s]\n"
     ]
    },
    {
     "name": "stdout",
     "output_type": "stream",
     "text": [
      "val Loss: 0.3997 Acc: 0.8607 F1: 0.8584\n",
      "------------------------------\n",
      "Epoch 25/30\n"
     ]
    },
    {
     "name": "stderr",
     "output_type": "stream",
     "text": [
      "100%|██████████| 917/917 [27:17<00:00,  1.79s/it]\n"
     ]
    },
    {
     "name": "stdout",
     "output_type": "stream",
     "text": [
      "train Loss: 0.2961 Acc: 0.8435 F1: 0.8309\n"
     ]
    },
    {
     "name": "stderr",
     "output_type": "stream",
     "text": [
      "100%|██████████| 115/115 [01:07<00:00,  1.71it/s]\n"
     ]
    },
    {
     "name": "stdout",
     "output_type": "stream",
     "text": [
      "val Loss: 0.4049 Acc: 0.8552 F1: 0.8525\n",
      "------------------------------\n",
      "Epoch 26/30\n"
     ]
    },
    {
     "name": "stderr",
     "output_type": "stream",
     "text": [
      "100%|██████████| 917/917 [26:04<00:00,  1.71s/it]\n"
     ]
    },
    {
     "name": "stdout",
     "output_type": "stream",
     "text": [
      "train Loss: 0.2976 Acc: 0.8443 F1: 0.8241\n"
     ]
    },
    {
     "name": "stderr",
     "output_type": "stream",
     "text": [
      "100%|██████████| 115/115 [01:03<00:00,  1.81it/s]\n"
     ]
    },
    {
     "name": "stdout",
     "output_type": "stream",
     "text": [
      "val Loss: 0.3959 Acc: 0.8626 F1: 0.8595\n",
      "------------------------------\n",
      "Epoch 27/30\n"
     ]
    },
    {
     "name": "stderr",
     "output_type": "stream",
     "text": [
      "100%|██████████| 917/917 [25:43<00:00,  1.68s/it]\n"
     ]
    },
    {
     "name": "stdout",
     "output_type": "stream",
     "text": [
      "train Loss: 0.2856 Acc: 0.8505 F1: 0.8289\n"
     ]
    },
    {
     "name": "stderr",
     "output_type": "stream",
     "text": [
      "100%|██████████| 115/115 [01:07<00:00,  1.70it/s]\n"
     ]
    },
    {
     "name": "stdout",
     "output_type": "stream",
     "text": [
      "val Loss: 0.3975 Acc: 0.8656 F1: 0.8608\n",
      "------------------------------\n",
      "Epoch 28/30\n"
     ]
    },
    {
     "name": "stderr",
     "output_type": "stream",
     "text": [
      "100%|██████████| 917/917 [25:43<00:00,  1.68s/it]\n"
     ]
    },
    {
     "name": "stdout",
     "output_type": "stream",
     "text": [
      "train Loss: 0.2785 Acc: 0.8527 F1: 0.8408\n"
     ]
    },
    {
     "name": "stderr",
     "output_type": "stream",
     "text": [
      "100%|██████████| 115/115 [01:04<00:00,  1.79it/s]\n"
     ]
    },
    {
     "name": "stdout",
     "output_type": "stream",
     "text": [
      "val Loss: 0.4011 Acc: 0.8648 F1: 0.8597\n",
      "------------------------------\n",
      "Epoch 29/30\n"
     ]
    },
    {
     "name": "stderr",
     "output_type": "stream",
     "text": [
      "100%|██████████| 917/917 [28:35<00:00,  1.87s/it]\n"
     ]
    },
    {
     "name": "stdout",
     "output_type": "stream",
     "text": [
      "train Loss: 0.2680 Acc: 0.8567 F1: 0.8422\n"
     ]
    },
    {
     "name": "stderr",
     "output_type": "stream",
     "text": [
      "100%|██████████| 115/115 [01:15<00:00,  1.52it/s]\n"
     ]
    },
    {
     "name": "stdout",
     "output_type": "stream",
     "text": [
      "val Loss: 0.3802 Acc: 0.8730 F1: 0.8693\n",
      "------------------------------\n",
      "Epoch 30/30\n"
     ]
    },
    {
     "name": "stderr",
     "output_type": "stream",
     "text": [
      "100%|██████████| 917/917 [26:57<00:00,  1.76s/it]\n"
     ]
    },
    {
     "name": "stdout",
     "output_type": "stream",
     "text": [
      "train Loss: 0.2744 Acc: 0.8558 F1: 0.8357\n"
     ]
    },
    {
     "name": "stderr",
     "output_type": "stream",
     "text": [
      "100%|██████████| 115/115 [01:08<00:00,  1.68it/s]"
     ]
    },
    {
     "name": "stdout",
     "output_type": "stream",
     "text": [
      "val Loss: 0.3780 Acc: 0.8716 F1: 0.8696\n",
      "------------------------------\n",
      "Training complete in 881m 7s\n",
      "Best val F1: 0.8696\n"
     ]
    },
    {
     "name": "stderr",
     "output_type": "stream",
     "text": [
      "\n"
     ]
    }
   ],
   "source": [
    "# Train\n",
    "model, history = train_model(model, criterion, optimizer, scheduler, num_epochs=num_epochs, model_name=\"EfficientNet-B0\")\n"
   ]
  },
  {
   "cell_type": "code",
   "execution_count": null,
   "id": "559814e5",
   "metadata": {},
   "outputs": [],
   "source": [
    "def plot_history(history, model_name=\"model\"):\n",
    "    epochs = range(1, len(history[\"train_loss\"]) + 1)\n",
    "    plt.figure(figsize=(12,4))\n",
    "    plt.subplot(1,2,1)\n",
    "    plt.plot(epochs, history[\"train_loss\"], label=\"train_loss\")\n",
    "    plt.plot(epochs, history[\"val_loss\"], label=\"val_loss\")\n",
    "    plt.xlabel(\"Epoch\"); plt.ylabel(\"Loss\"); plt.legend(); plt.title(f\"{model_name} Loss\")\n",
    "\n",
    "    plt.subplot(1,2,2)\n",
    "    plt.plot(epochs, history[\"train_acc\"], label=\"train_acc\")\n",
    "    plt.plot(epochs, history[\"val_acc\"], label=\"val_acc\")\n",
    "    plt.xlabel(\"Epoch\"); plt.ylabel(\"Accuracy\"); plt.legend(); plt.title(f\"{model_name} Accuracy\")\n",
    "    plt.show()\n"
   ]
  },
  {
   "cell_type": "code",
   "execution_count": 18,
   "id": "cf7b5ab9",
   "metadata": {},
   "outputs": [
    {
     "data": {
      "image/png": "[encoded data removed]",
      "text/plain": [
       "<Figure size 1200x400 with 2 Axes>"
      ]
     },
     "metadata": {},
     "output_type": "display_data"
    }
   ],
   "source": [
    "plot_history(history, model_name=\"EfficientNet-B0\")\n"
   ]
  },
  {
   "cell_type": "code",
   "execution_count": 19,
   "id": "58eae84f",
   "metadata": {},
   "outputs": [],
   "source": [
    "# Load best model checkpoint (if needed) and run final evaluation on validation set\n",
    "def evaluate_model(model):\n",
    "    model.eval()\n",
    "    y_true = []\n",
    "    y_pred = []\n",
    "    with torch.no_grad():\n",
    "        for inputs, labels in val_loader:\n",
    "            inputs = inputs.to(device)\n",
    "            labels = labels.to(device)\n",
    "            outputs = model(inputs)\n",
    "            _, preds = torch.max(outputs, 1)\n",
    "            y_true.extend(labels.cpu().numpy().tolist())\n",
    "            y_pred.extend(preds.cpu().numpy().tolist())\n",
    "    print(classification_report(y_true, y_pred, target_names=class_names))\n",
    "    cm = confusion_matrix(y_true, y_pred)\n",
    "    print(\"Confusion matrix:\\n\", cm)\n"
   ]
  },
  {
   "cell_type": "code",
   "execution_count": 20,
   "id": "0d104d1a",
   "metadata": {},
   "outputs": [
    {
     "name": "stdout",
     "output_type": "stream",
     "text": [
      "                               precision    recall  f1-score   support\n",
      "\n",
      "            Actinic keratoses       0.59      0.81      0.69        86\n",
      "         Basal cell carcinoma       0.84      0.87      0.86       332\n",
      "Benign keratosis-like lesions       0.69      0.79      0.74       262\n",
      "                   Chickenpox       0.95      0.99      0.97       112\n",
      "                       Cowpox       0.99      1.00      0.99        99\n",
      "               Dermatofibroma       0.81      0.96      0.88        23\n",
      "                         HFMD       0.98      1.00      0.99       241\n",
      "                      Healthy       0.99      0.99      0.99       171\n",
      "                      Measles       0.99      0.99      0.99        82\n",
      "             Melanocytic nevi       0.94      0.83      0.88      1287\n",
      "                     Melanoma       0.72      0.76      0.74       452\n",
      "                    Monkeypox       1.00      0.98      0.99       426\n",
      "      Squamous cell carcinoma       0.49      0.74      0.59        62\n",
      "             Vascular lesions       0.78      1.00      0.88        25\n",
      "\n",
      "                     accuracy                           0.87      3660\n",
      "                    macro avg       0.84      0.91      0.87      3660\n",
      "                 weighted avg       0.88      0.87      0.87      3660\n",
      "\n",
      "Confusion matrix:\n",
      " [[  70    6    4    0    0    0    0    0    0    0    1    0    5    0]\n",
      " [  17  290    4    0    0    1    0    0    0    5    6    0    8    1]\n",
      " [   9    6  206    0    0    3    0    0    0    8   18    0   10    2]\n",
      " [   0    0    0  111    0    0    1    0    0    0    0    0    0    0]\n",
      " [   0    0    0    0   99    0    0    0    0    0    0    0    0    0]\n",
      " [   1    0    0    0    0   22    0    0    0    0    0    0    0    0]\n",
      " [   0    0    0    1    0    0  240    0    0    0    0    0    0    0]\n",
      " [   0    0    0    0    0    0    1  170    0    0    0    0    0    0]\n",
      " [   0    0    0    0    0    0    1    0   81    0    0    0    0    0]\n",
      " [   9   26   54    0    0    1    0    0    0 1070  109    0   15    3]\n",
      " [   8   12   23    0    0    0    0    0    0   55  344    0    9    1]\n",
      " [   0    0    0    5    1    0    2    1    1    0    0  416    0    0]\n",
      " [   4    5    6    0    0    0    0    0    0    0    1    0   46    0]\n",
      " [   0    0    0    0    0    0    0    0    0    0    0    0    0   25]]\n"
     ]
    }
   ],
   "source": [
    "evaluate_model(model)"
   ]
  },
  {
   "cell_type": "code",
   "execution_count": null,
   "id": "a96c42e7",
   "metadata": {},
   "outputs": [
    {
     "name": "stdout",
     "output_type": "stream",
     "text": [
      "Requirement already satisfied: pandas in c:\\users\\nethm\\miniconda3\\lib\\site-packages (2.3.3)\n",
      "Requirement already satisfied: numpy>=1.26.0 in c:\\users\\nethm\\miniconda3\\lib\\site-packages (from pandas) (2.2.6)\n",
      "Requirement already satisfied: python-dateutil>=2.8.2 in c:\\users\\nethm\\miniconda3\\lib\\site-packages (from pandas) (2.9.0.post0)\n",
      "Requirement already satisfied: pytz>=2020.1 in c:\\users\\nethm\\miniconda3\\lib\\site-packages (from pandas) (2025.2)\n",
      "Requirement already satisfied: tzdata>=2022.7 in c:\\users\\nethm\\miniconda3\\lib\\site-packages (from pandas) (2025.2)\n",
      "Requirement already satisfied: six>=1.5 in c:\\users\\nethm\\miniconda3\\lib\\site-packages (from python-dateutil>=2.8.2->pandas) (1.17.0)\n",
      "Note: you may need to restart the kernel to use updated packages.\n",
      "Test classes order: ['Actinic keratoses', 'Basal cell carcinoma', 'Benign keratosis-like lesions', 'Chickenpox', 'Cowpox', 'Dermatofibroma', 'HFMD', 'Healthy', 'Measles', 'Melanocytic nevi', 'Melanoma', 'Monkeypox', 'Squamous cell carcinoma', 'Vascular lesions']\n",
      "Test size: 3674\n",
      "Loaded checkpoint: EfficientNet-B0_best.pth\n",
      "                               precision    recall  f1-score   support\n",
      "\n",
      "            Actinic keratoses       0.57      0.83      0.68        88\n",
      "         Basal cell carcinoma       0.86      0.87      0.87       333\n",
      "Benign keratosis-like lesions       0.68      0.76      0.72       263\n",
      "                   Chickenpox       0.96      0.97      0.96       113\n",
      "                       Cowpox       1.00      1.00      1.00        99\n",
      "               Dermatofibroma       0.79      0.76      0.78        25\n",
      "                         HFMD       0.99      1.00      0.99       242\n",
      "                      Healthy       1.00      0.98      0.99       171\n",
      "                      Measles       0.94      1.00      0.97        83\n",
      "             Melanocytic nevi       0.94      0.84      0.89      1288\n",
      "                     Melanoma       0.71      0.77      0.74       453\n",
      "                    Monkeypox       0.99      0.98      0.98       426\n",
      "      Squamous cell carcinoma       0.58      0.84      0.69        64\n",
      "             Vascular lesions       0.71      0.96      0.82        26\n",
      "\n",
      "                     accuracy                           0.87      3674\n",
      "                    macro avg       0.84      0.90      0.86      3674\n",
      "                 weighted avg       0.88      0.87      0.88      3674\n",
      "\n",
      "Confusion matrix:\n",
      " [[  73    4    5    0    0    0    0    0    0    0    3    0    3    0]\n",
      " [  17  291    7    0    0    3    0    0    0    4    6    0    4    1]\n",
      " [  14    7  200    0    0    0    0    0    0   13   19    0    9    1]\n",
      " [   0    0    0  110    0    0    0    0    2    0    0    1    0    0]\n",
      " [   0    0    0    0   99    0    0    0    0    0    0    0    0    0]\n",
      " [   0    2    0    0    0   19    0    0    0    2    2    0    0    0]\n",
      " [   0    0    0    0    0    0  241    0    0    0    0    0    0    1]\n",
      " [   0    0    0    0    0    0    0  168    1    0    0    2    0    0]\n",
      " [   0    0    0    0    0    0    0    0   83    0    0    0    0    0]\n",
      " [  13   14   55    0    0    2    0    0    0 1076  110    0   13    5]\n",
      " [   7   17   23    0    0    0    0    0    0   46  348    0   10    2]\n",
      " [   0    0    0    5    0    0    3    0    2    0    0  416    0    0]\n",
      " [   4    3    2    0    0    0    0    0    0    0    1    0   54    0]\n",
      " [   0    0    0    0    0    0    0    0    0    0    1    0    0   25]]\n"
     ]
    },
    {
     "data": {
      "image/png": "[encoded data removed]",
      "text/plain": [
       "<Figure size 1000x800 with 2 Axes>"
      ]
     },
     "metadata": {},
     "output_type": "display_data"
    },
    {
     "name": "stdout",
     "output_type": "stream",
     "text": [
      "Saved test_predictions.csv\n"
     ]
    }
   ],
   "source": [
    "\n",
    "%pip install pandas\n",
    "import torch\n",
    "from torchvision import datasets\n",
    "from torch.utils.data import DataLoader\n",
    "from sklearn.metrics import classification_report, confusion_matrix\n",
    "import numpy as np\n",
    "import matplotlib.pyplot as plt\n",
    "import pandas as pd\n",
    "\n",
    "# path to test data \n",
    "test_dir = r\"D:\\archive\\test\"   \n",
    "\n",
    "# use same transforms as val_transforms to keep inputs consistent\n",
    "test_dataset = datasets.ImageFolder(test_dir, transform=val_transforms)\n",
    "test_loader = DataLoader(test_dataset, batch_size=32, shuffle=False, num_workers=4)\n",
    "\n",
    "print(\"Test classes order:\", test_dataset.classes)\n",
    "print(\"Test size:\", len(test_dataset))\n",
    "\n",
    "# load best checkpoint (if you saved it during training)\n",
    "ckpt_path = \"EfficientNet-B0_best.pth\"   # adjust if different\n",
    "try:\n",
    "    state = torch.load(ckpt_path, map_location=device)\n",
    "    model.load_state_dict(state)\n",
    "    print(\"Loaded checkpoint:\", ckpt_path)\n",
    "except Exception as e:\n",
    "    print(\"Checkpoint load failed (using current model):\", e)\n",
    "\n",
    "model.to(device)\n",
    "model.eval()\n",
    "\n",
    "y_true = []\n",
    "y_pred = []\n",
    "probs = []   # optional: predicted probabilities\n",
    "\n",
    "with torch.no_grad():\n",
    "    for inputs, labels in test_loader:\n",
    "        inputs = inputs.to(device)\n",
    "        labels = labels.to(device)\n",
    "        outputs = model(inputs)\n",
    "        ps = torch.softmax(outputs, dim=1)\n",
    "        _, preds = torch.max(outputs, 1)\n",
    "\n",
    "        y_true.extend(labels.cpu().numpy().tolist())\n",
    "        y_pred.extend(preds.cpu().numpy().tolist())\n",
    "        probs.extend(ps.cpu().numpy().tolist())\n",
    "\n",
    "# metrics\n",
    "print(classification_report(y_true, y_pred, target_names=test_dataset.classes))\n",
    "cm = confusion_matrix(y_true, y_pred)\n",
    "print(\"Confusion matrix:\\n\", cm)\n",
    "\n",
    "# optional: plot confusion matrix\n",
    "plt.figure(figsize=(10,8))\n",
    "plt.imshow(cm, interpolation='nearest', cmap=plt.cm.Blues)\n",
    "plt.title(\"Confusion matrix\")\n",
    "plt.colorbar()\n",
    "tick_marks = np.arange(len(test_dataset.classes))\n",
    "plt.xticks(tick_marks, test_dataset.classes, rotation=90)\n",
    "plt.yticks(tick_marks, test_dataset.classes)\n",
    "plt.ylabel('True label')\n",
    "plt.xlabel('Predicted label')\n",
    "plt.tight_layout()\n",
    "plt.show()\n",
    "\n",
    "# optional: save per-image predictions (filenames, true, pred, prob)\n",
    "filenames = [p[0] for p in test_dataset.samples]  # full relative paths\n",
    "df = pd.DataFrame({\n",
    "    \"file\": filenames,\n",
    "    \"true\": [test_dataset.classes[i] for i in y_true],\n",
    "    \"pred\": [test_dataset.classes[i] for i in y_pred],\n",
    "    \"prob_top\": [round(float(np.max(p)),4) for p in probs]\n",
    "})\n",
    "df.to_csv(\"test_predictions.csv\", index=False)\n",
    "print(\"Saved test_predictions.csv\")"
   ]
  }
 ],
 "metadata": {
  "kernelspec": {
   "display_name": "base",
   "language": "python",
   "name": "python3"
  },
  "language_info": {
   "codemirror_mode": {
    "name": "ipython",
    "version": 3
   },
   "file_extension": ".py",
   "mimetype": "text/x-python",
   "name": "python",
   "nbconvert_exporter": "python",
   "pygments_lexer": "ipython3",
   "version": "3.13.5"
  }
 },
 "nbformat": 4,
 "nbformat_minor": 5
}
