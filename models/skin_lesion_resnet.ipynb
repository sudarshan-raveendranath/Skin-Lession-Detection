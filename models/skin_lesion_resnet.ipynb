{
 "cells": [
  {
   "cell_type": "markdown",
   "id": "5a8f5b0e",
   "metadata": {},
   "source": [
    "dfvgdfvdfvdfv"
   ]
  },
  {
   "cell_type": "code",
   "execution_count": null,
   "id": "760ec7f6",
   "metadata": {
    "vscode": {
     "languageId": "plaintext"
    }
   },
   "outputs": [],
   "source": []
  }
 ],
 "metadata": {
  "language_info": {
   "name": "python"
  }
 },
 "nbformat": 4,
 "nbformat_minor": 5
}
